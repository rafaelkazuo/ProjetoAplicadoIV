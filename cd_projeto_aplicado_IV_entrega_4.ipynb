{
  "nbformat": 4,
  "nbformat_minor": 0,
  "metadata": {
    "kernelspec": {
      "display_name": "Python 3",
      "language": "python",
      "name": "python3"
    },
    "language_info": {
      "codemirror_mode": {
        "name": "ipython",
        "version": 3
      },
      "file_extension": ".py",
      "mimetype": "text/x-python",
      "name": "python",
      "nbconvert_exporter": "python",
      "pygments_lexer": "ipython3",
      "version": "3.7.4"
    },
    "colab": {
      "provenance": [],
      "toc_visible": true,
      "include_colab_link": true
    }
  },
  "cells": [
    {
      "cell_type": "markdown",
      "metadata": {
        "id": "view-in-github",
        "colab_type": "text"
      },
      "source": [
        "<a href=\"https://colab.research.google.com/github/rafaelkazuo/ProjetoAplicadoIV/blob/main/cd_projeto_aplicado_IV_entrega_4.ipynb\" target=\"_parent\"><img src=\"https://colab.research.google.com/assets/colab-badge.svg\" alt=\"Open In Colab\"/></a>"
      ]
    },
    {
      "cell_type": "markdown",
      "metadata": {
        "id": "80CF3Eq9EXDW"
      },
      "source": [
        "  <img src=\"https://raw.githubusercontent.com/scalabrinig/cdProjetoAplicadoIV/d093146488f56dfcf0ef286bcee8efe0e71b9c76/figuras/mackenzie_logo.jpg\" width=\"25%\" align=\"right\"/>\n",
        "\n",
        "# **PROJETO APLICADO IV - Ciência de Dados EaD - 2024/02**\n",
        "\n",
        "\n",
        "# **Entrega 4**\n",
        "\n",
        "---"
      ]
    },
    {
      "cell_type": "markdown",
      "metadata": {
        "id": "40b90843"
      },
      "source": [
        "# **Título do Projeto**\n",
        "---\n",
        "## __Impactos da Mudança Climática na Biodiversidade Terrestre no Brasil__\n"
      ]
    },
    {
      "cell_type": "code",
      "metadata": {
        "id": "rYx9D4GZA5o9"
      },
      "source": [
        "#@title **Identificação do Grupo e Opção do Projeto**\n",
        "\n",
        "#@markdown Integrantes do Grupo, nome completo em ordem alfabética (*informe: \\<nome\\>, \\<matrícula\\>*)\n",
        "Aluno1 = 'Antônio Alcivan da Silva, 10407102' #@param {type:\"string\"}\n",
        "Aluno2 = 'Ítalo Pedro dos Santos Pereira, 10407172' #@param {type:\"string\"}\n",
        "Aluno3 = 'Joyce Rhaellem Alves Costa, 10408023' #@param {type:\"string\"}\n",
        "Aluno4 = 'Priscila Gabrielly Mendes, 10407319' #@param {type:\"string\"}\n",
        "Aluno5 = 'Rafael Kazuo Kondo, 10178765' #@param {type:\"string\"}\n",
        "\n",
        "\n",
        "\n"
      ],
      "execution_count": 1,
      "outputs": []
    },
    {
      "cell_type": "markdown",
      "source": [
        "# **Resumo**\n",
        "\n",
        "Este projeto aborda o problema crucial dos impactos das mudanças climáticas na biodiversidade terrestre no Brasil, com foco em florestas tropicais como a Amazônia e a Mata Atlântica. Diante da crescente preocupação global com as mudanças climáticas e seus efeitos devastadores sobre ecossistemas vitais, torna-se relevante investigar como as alterações nos padrões climáticos afetam a distribuição de espécies e a funcionalidade dos ecossistemas. O projeto utiliza uma metodologia baseada em análise de séries temporais, integrando dados climáticos e biológicos de fontes confiáveis, como INMET, MapBiomas, CEMADEN, IMF e Our World in Data. Através de técnicas avançadas de análise de séries temporais, o projeto busca identificar padrões, tendências e relações causais entre as variáveis climáticas e a biodiversidade. Além disso, serão desenvolvidos modelos preditivos, utilizando métodos estatísticos e algoritmos de aprendizado de máquina, para simular cenários futuros e prever os impactos das mudanças climáticas em curto, médio e longo prazo, com o objetivo de subsidiar a elaboração de estratégias de mitigação e adaptação para a conservação da biodiversidade brasileira. Os resultados do projeto serão disseminados para a comunidade científica, tomadores de decisão e o público em geral, visando aumentar a conscientização e promover ações sustentáveis."
      ],
      "metadata": {
        "id": "JlCIc2YooBW7"
      }
    },
    {
      "cell_type": "markdown",
      "source": [
        "# **Introdução**\n",
        "\n",
        "A história das preocupações humanas com as mudanças climáticas remonta a milhares de\n",
        "anos, com debates sobre os impactos ambientais ocorridos na Grécia Antiga, onde\n",
        "pensadores discutiram o efeito do desmatamento nos padrões de chuva local. No entanto, a\n",
        "percepção de que as atividades humanas poderiam influenciar o clima global começou a\n",
        "emergir no final do século XIX, quando o químico sueco Svante Arrhenius apresentou, em\n",
        "1896, um modelo sugerindo que o aumento da concentração de dióxido de carbono na\n",
        "atmosfera poderia aquecer o planeta, apesar de seu trabalho não ter sido amplamente\n",
        "reconhecido na época.<br/>\n",
        "O reconhecimento da relação entre emissões de gases de efeito estufa e mudanças\n",
        "climáticas ganhou força no século XX, especialmente após experimentos na década de\n",
        "1950, que mostraram que a atmosfera poderia acumular CO₂ a um ritmo alarmante. Estudos\n",
        "de Roger Revelle e Charles Keeling foram fundamentais para demonstrar que as atividades\n",
        "humanas estavam contribuindo para o aumento das temperaturas globais. A partir da\n",
        "década de 1980, a comunidade científica começou a se unir em torno da necessidade de\n",
        "ação, culminando em conferências internacionais, como a de Toronto em 1988, onde se\n",
        "destacou a urgência de reduzir as emissões. Nos anos 1990, apesar do consenso sobre a\n",
        "necessidade de ação, a resistência das indústrias de combustíveis fósseis e a inércia\n",
        "humana dificultaram a implementação de políticas eficazes.<br/>\n",
        "Atualmente, as preocupações sobre as mudanças climáticas são mais relevantes do que\n",
        "nunca, impactando diretamente a biodiversidade, os ecossistemas e a saúde do planeta. No\n",
        "Brasil, que abriga uma das maiores riquezas em diversidade biológica do mundo, os\n",
        "impactos climáticos são alarmantes, especialmente em ecossistemas sensíveis como a\n",
        "Amazônia, o Cerrado e a Mata Atlântica. As alterações nos padrões de temperatura,\n",
        "precipitação e eventos climáticos extremos podem modificar habitats, desencadear\n",
        "migrações forçadas e levar à extinção de espécies incapazes de se adaptar rapidamente.\n",
        "A preservação da biodiversidade e a mitigação dos efeitos das mudanças climáticas estão\n",
        "alinhadas aos Objetivos de Desenvolvimento Sustentável (ODS) da Agenda 2030 da ONU,\n",
        "especialmente o ODS 13 - Ação Contra a Mudança Global do Clima, e o ODS 15 - Vida\n",
        "Terrestre. O ODS 13 busca medidas urgentes para combater a mudança climática, enquanto\n",
        "o ODS 15 visa proteger, restaurar e promover o uso sustentável dos ecossistemas terrestres.<br/>\n",
        "Este estudo revela não apenas a vulnerabilidade dos biomas brasileiros às mudanças\n",
        "climáticas, mas também a necessidade de ações estratégicas para proteger a biodiversidade\n",
        "e promover práticas de gestão sustentável que equilibrem desenvolvimento econômico e\n",
        "conservação ambiental.<br/>\n",
        "<br/>\n",
        "\n",
        "## **Motivação e Justificativa**\n",
        "A motivação para a escolha do tema \"Impactos da Mudança Climática na Biodiversidade\n",
        "Terrestre no Brasil\" está intrinsecamente ligada à crescente preocupação global com as\n",
        "mudanças climáticas e seus efeitos devastadores sobre os ecossistemas naturais. O Brasil,\n",
        "por sua vasta diversidade biológica e por abrigar biomas de relevância global, como a\n",
        "Amazônia, o Cerrado e a Mata Atlântica, encontra-se em uma posição de vulnerabilidade\n",
        "única diante dessa crise ambiental. Alterações nos padrões climáticos, como o aumento das\n",
        "temperaturas e mudanças no regime de precipitação, ameaçam diretamente a\n",
        "biodiversidade terrestre, podendo levar à extinção de espécies e à degradação de\n",
        "ecossistemas essenciais.\n",
        "Com o avanço dos impactos climáticos, surge a necessidade urgente de compreender como\n",
        "diferentes cenários de mudança climática afetam a distribuição de espécies terrestres e os\n",
        "ecossistemas no Brasil. A incapacidade de certas espécies em se adaptar às novas\n",
        "condições pode resultar em uma perda significativa de biodiversidade, colocando em risco\n",
        "não apenas a fauna e flora do país, mas também os serviços ecossistêmicos que sustentam\n",
        "a economia e o bem-estar humano, como a regulação do clima, a polinização e a purificação\n",
        "da água.<br/>\n",
        "A justificativa para este estudo reside na lacuna de conhecimento sobre os efeitos\n",
        "específicos da mudança climática nas espécies terrestres brasileiras e na necessidade de\n",
        "gerar dados que possam orientar políticas públicas voltadas à conservação ambiental. Com\n",
        "base em modelagens climáticas e de biodiversidade, este projeto buscará identificar áreas e\n",
        "espécies mais vulneráveis, oferecendo subsídios para ações de preservação e manejo\n",
        "sustentável dos recursos naturais.\n",
        "\n",
        "<br/>\n",
        "<br/>\n",
        "\n",
        "## **Objetivo do Projeto**\n",
        "\n",
        "O objetivo deste projeto é desenvolver uma solução analítica baseada em séries temporais\n",
        "que permita analisar e prever os impactos das mudanças climáticas sobre a biodiversidade\n",
        "terrestre no Brasil, com ênfase nas florestas tropicais, como a Amazônia e a Mata Atlântica.\n",
        "Através da coleta e integração de dados climáticos e biológicos, o projeto visa compreender\n",
        "as dinâmicas ambientais e projetar cenários futuros, promovendo a elaboração de\n",
        "estratégias de mitigação e adaptação. Para alcançar esse objetivo geral, foram definidas as\n",
        "seguintes metas específicas:<br/>\n",
        "\n",
        "__1. Coleta e Integração de Dados:__ Reunir e integrar dados públicos sobre clima e\n",
        "biodiversidade, incluindo séries temporais de temperatura, precipitação e registros de\n",
        "biodiversidade, com ênfase em fontes confiáveis, como bases de dados governamentais e\n",
        "organizações internacionais.<br/>\n",
        "__2. Análise dos Impactos:__ Aplicar técnicas avançadas de análise de séries temporais para\n",
        "identificar padrões e tendências nas mudanças climáticas e suas consequências sobre a\n",
        "biodiversidade, investigando relações causais entre variações climáticas e a distribuição e\n",
        "sobrevivência das espécies terrestres.<br/>\n",
        "__3. Desenvolvimento de Modelos Previsionais:__ Elaborar modelos preditivos que simulem\n",
        "os impactos futuros das mudanças climáticas sobre os ecossistemas terrestres, utilizando\n",
        "métodos estatísticos e algoritmos de aprendizado de máquina para projetar cenários de\n",
        "curto, médio e longo prazo.<br/>\n",
        "__4. Proposição de Soluções:__ Apresentar estratégias baseadas em evidências para mitigar\n",
        "os impactos negativos das mudanças climáticas na biodiversidade, promovendo a\n",
        "adaptação dos ecossistemas naturais e das comunidades humanas que dependem deles,\n",
        "além de propor políticas de conservação e manejo sustentável.<br/>\n",
        "__5. Disseminação de Resultados:__ Divulgar amplamente os resultados obtidos para a\n",
        "comunidade científica, tomadores de decisão e o público em geral, por meio de publicações\n",
        "acadêmicas, relatórios técnicos e eventos de divulgação científica, com o objetivo de\n",
        "aumentar a conscientização e fomentar ações sustentáveis em prol da preservação da\n",
        "biodiversidade.\n"
      ],
      "metadata": {
        "id": "jx4u5FY-6UEp"
      }
    },
    {
      "cell_type": "markdown",
      "source": [
        "# **Referencial Teórico**\n",
        "\n",
        "Quando nos deparamos com problemas complexos, é comum buscar inspiração em\n",
        "trabalhos correlacionados. Esses estudos não apenas nos fornecem uma base sólida de\n",
        "conhecimento, mas também nos oferecem diferentes abordagens para resolver problemas\n",
        "semelhantes. Nesta discussão, exploraremos alternativas de solução empregadas em\n",
        "problemas relacionados, destacando suas vantagens e limitações. Para uma compreensão\n",
        "mais completa, iremos definir resumidamente os principais conceitos envolvidos em cada\n",
        "solução.<br/>\n",
        "\n",
        "Em A Espiral da Morte, Cláudio Ângelo (2021) aborda a inter-relação entre mudanças\n",
        "climáticas e a degradação ambiental no Brasil, enfatizando a gravidade da situação e a\n",
        "urgência de ações efetivas. O autor discute como as alterações climáticas estão\n",
        "profundamente entrelaçadas com a saúde dos ecossistemas e a biodiversidade, alertando\n",
        "que a inação pode levar a um ciclo vicioso de degradação ambiental e perda de\n",
        "biodiversidade. Ângelo propõe a necessidade de uma mudança paradigmática nas políticas\n",
        "públicas e na conscientização da população, a fim de mitigar os efeitos adversos das\n",
        "mudanças climáticas.<br/>\n",
        "\n",
        "A questão climática no Brasil é complexa e multifacetada, tendo impactos diretos na\n",
        "biodiversidade e nos ecossistemas do país. Segundo Nobre e Soares (2019), em seu livro\n",
        "Mudanças Climáticas: O Que Podemos Esperar para o Brasil?, as alterações climáticas têm\n",
        "gerado uma série de consequências para a biodiversidade brasileira, principalmente nas\n",
        "regiões tropicais, onde os biomas como a Amazônia e a Mata Atlântica estão sob constante\n",
        "ameaça. O autor destaca que as mudanças nos padrões de temperatura e precipitação\n",
        "influenciam a distribuição de espécies e o funcionamento dos ecossistemas, podendo levar à\n",
        "extinção de espécies nativas e à degradação de habitats.<br/>\n",
        "Além disso, a análise de séries temporais tem se mostrado uma ferramenta crucial para\n",
        "entender as dinâmicas climáticas e seus impactos na biodiversidade. Conforme abordado\n",
        "por Hyndman e Athanasopoulos (2018) em Forecasting: Principles and Practice, a análise de\n",
        "séries temporais permite a identificação de tendências e padrões sazonais nos dados\n",
        "climáticos, possibilitando a previsão de comportamentos futuros. Essa abordagem é\n",
        "particularmente útil para examinar como as variáveis climáticas, como temperatura e\n",
        "precipitação, afetam a biodiversidade ao longo do tempo, permitindo que pesquisadores e\n",
        "formuladores de políticas desenvolvam estratégias informadas para mitigar esses impactos.\n",
        "Os modelos preditivos, conforme discutido por Kuhn e Johnson (2013) em Applied Predictive\n",
        "Modeling, são fundamentais para a construção de cenários futuros sobre as consequências\n",
        "das mudanças climáticas na biodiversidade. Utilizando técnicas estatísticas e algoritmos de\n",
        "aprendizado de máquina, os modelos preditivos podem simular diferentes cenários de\n",
        "mudança climática e suas implicações para os ecossistemas. Esses modelos não apenas\n",
        "ajudam a entender as relações complexas entre variáveis climáticas e biodiversidade, mas\n",
        "também podem fornecer informações valiosas para a formulação de políticas de\n",
        "conservação e adaptação.<br/>\n",
        "\n",
        "Portanto, este referencial teórico destaca a importância de integrar dados climáticos e\n",
        "análises de séries temporais para compreender os impactos das mudanças climáticas na\n",
        "biodiversidade terrestre no Brasil. Através do uso de modelos preditivos, é possível não\n",
        "apenas analisar as tendências passadas, mas também prever as alterações futuras,\n",
        "contribuindo para a formulação de estratégias de mitigação e adaptação essenciais para a\n",
        "conservação da rica biodiversidade brasileira.<br/>\n",
        "\n",
        "Com base nos fundamentos fornecidos pelos trabalhos e livros referenciados, estamos\n",
        "confiantes de que temos uma sólida base teórica e prática para conduzir uma análise\n",
        "robusta e produzir resultados significativos.<br/>\n",
        "\n",
        "\n",
        "# __Descrição da base de dados__<br/>\n",
        "\n",
        "O conjunto de dados IMF - Mudança Anual da Temperatura da Superfície apresenta\n",
        "estimativas anuais das mudanças na temperatura média da superfície em relação à\n",
        "climatologia de referência do período de 1951 a 1980. As temperaturas são medidas em\n",
        "graus Celsius e abrangem o período de 1961 a 2021, fornecendo dados para países\n",
        "individualmente e para o mundo como um todo. A fonte dos dados é a Organização das\n",
        "Nações Unidas para Alimentação e Agricultura (FAO), e o conjunto está estruturado em\n",
        "períodos anuais por país, permitindo a análise das tendências de mudanças climáticas\n",
        "globais e regionais ao longo do tempo. Os dados podem ser acessados [aqui](https://climatedata.imf.org/datasets/4063314923d74187be9596f10d034914_0/explore).\n",
        "\n",
        "<br/>A plataforma Our World in Data - Mudanças Climáticas oferece uma ampla variedade de\n",
        "indicadores relacionados às mudanças climáticas, incluindo emissões de gases de efeito\n",
        "estufa, temperatura global e níveis de poluição do ar. A estrutura dos dados é organizada\n",
        "por países e regiões, permitindo uma análise detalhada do progresso em diferentes áreas ao\n",
        "longo de várias décadas. A plataforma disponibiliza séries temporais de dados, gráficos e\n",
        "análises, com um período de coleta abrangendo várias décadas, dependendo do indicador.\n",
        "Os dados podem ser consultados neste [link](https://ourworldindata.org/climate-change).\n",
        "\n",
        "<br/>O Instituto Nacional de Meteorologia (INMET) disponibiliza dados históricos sobre condições\n",
        "climáticas no Brasil, incluindo variáveis como temperatura, umidade, precipitação e\n",
        "velocidade do vento, coletadas de estações meteorológicas em todo o país. Os dados são\n",
        "organizados em planilhas por estação meteorológica e por períodos de coleta que podem\n",
        "abranger vários anos. Essas informações são atualizadas regularmente e podem ser\n",
        "baixadas em diferentes formatos, permitindo análises detalhadas por região e período. Para\n",
        "acessar os dados, visite o site do [INMET](https://portal.inmet.gov.br/dadoshistoricos).\n",
        "\n",
        "<br/>O MapBiomas fornece séries temporais sobre o uso e cobertura da terra no Brasil, com foco\n",
        "em mudanças nos ecossistemas e biomas ao longo dos anos. As coleções são divididas por\n",
        "temas, como vegetação nativa, agropecuária e áreas urbanas, e estão disponíveis em\n",
        "mapas de alta resolução, organizados por anos e biomas. O período de coleta começa em\n",
        "1985 e se estende até os dias atuais, permitindo análises detalhadas da evolução ambiental\n",
        "no Brasil. Você pode acessar as coleções [aqui](https://brasil.mapbiomas.org/colecoes-mapbiomas/).\n",
        "\n",
        "<br/>Por fim, o conjunto de dados do CEMADEN - Monitoramento de Secas no Brasil fornece\n",
        "informações detalhadas sobre o monitoramento de secas no Brasil, incluindo análises de\n",
        "impactos socioeconômicos e ambientais. Os dados são coletados regularmente desde 2013\n",
        "e incluem mapas e relatórios mensais, organizados por estados e municípios brasileiros. A\n",
        "estrutura é geoespacial, com indicadores que permitem visualizar as áreas mais afetadas e\n",
        "as variações temporais das secas no país. Mais informações estão disponíveis neste [link](https://www.gov.br/cemaden/pt-br/assuntos/monitoramento/monitoramento-de-seca-para-o-brasil/monitoramento-de-secas-e-impactos-no-brasil-2013-setembro-2023-1).\n"
      ],
      "metadata": {
        "id": "5t_X-um-7n1T"
      }
    },
    {
      "cell_type": "markdown",
      "source": [
        "# **Diagrama de Solução**\n",
        "\n",
        "[Coleta e Integração de Dados] --> [Análise dos Impactos] --> [Desenvolvimento de Modelos Previsionais] --> [Proposição de Soluções] --> [Disseminação de Resultados]\n",
        "\n",
        "\n",
        "Componentes:\n",
        "\n",
        "1. __Coleta e Integração de Dados:__\n",
        "- Fontes de dados: INMET, MapBiomas, CEMADEN, IMF, Our World in Data.\n",
        "- Dados climáticos: Temperatura, precipitação, umidade, etc.\n",
        "- Dados de biodiversidade: Registros de espécies, distribuição, etc.\n",
        "- Ferramentas: Bibliotecas Python para manipulação de dados (Pandas, etc.).\n",
        "2. __Análise dos Impactos:__\n",
        "- Técnicas de análise de séries temporais.\n",
        "- Identificação de padrões e tendências.\n",
        "- Investigação de relações causais.\n",
        "- Ferramentas: Bibliotecas Python para análise de séries temporais (Statsmodels, etc.).\n",
        "3.__Desenvolvimento de Modelos Previsionais:__\n",
        "- Modelos estatísticos e de aprendizado de máquina.\n",
        "- Simulação de cenários futuros.\n",
        "- Projeções de curto, médio e longo prazo.\n",
        "- Ferramentas: Bibliotecas Python para modelagem (Scikit-learn, TensorFlow, etc.).\n",
        "4.__Proposição de Soluções:__\n",
        "- Estratégias de mitigação e adaptação.\n",
        "- Políticas de conservação e manejo sustentável.\n",
        "- Recomendações para tomadores de decisão.\n",
        "5.__Disseminação de Resultados:__\n",
        "- Publicações acadêmicas e relatórios técnicos.\n",
        "- Eventos de divulgação científica.\n",
        "- Comunicação com o público em geral."
      ],
      "metadata": {
        "id": "mLIXqlmC9gu_"
      }
    },
    {
      "cell_type": "markdown",
      "source": [
        "# **EDA e Pré-processamento dos dados**\n",
        "\n"
      ],
      "metadata": {
        "id": "iyc_Xux5Gc06"
      }
    },
    {
      "cell_type": "markdown",
      "source": [
        "# **Pré-Processamento dos Dados**\n",
        "\n",
        "Os códigos utilizados no projeto foram listados e especificados abaixo. E conforme determinado no entregável da terceira etapa, todos os códigos foram testados e as bases foram anexadas dentro do Google Colab, com o objetivo final de serem 100% executáveis e reproduzíveis. <br/>\n",
        "<br/>\n",
        "### 1. Bibliotecas Utilizadas"
      ],
      "metadata": {
        "id": "XyyI6GSLEU4n"
      }
    },
    {
      "cell_type": "code",
      "source": [
        "import pandas as pd\n",
        "import matplotlib.pyplot as plt\n",
        "import seaborn as sns"
      ],
      "metadata": {
        "id": "JxAmBKalEnQE"
      },
      "execution_count": 2,
      "outputs": []
    },
    {
      "cell_type": "markdown",
      "source": [
        "# **Modelos**\n",
        "\n",
        "Descrição metodológica para a criação, refinamento e validação dos modelos propostos."
      ],
      "metadata": {
        "id": "_EKu2odGKlBQ"
      }
    },
    {
      "cell_type": "markdown",
      "source": [
        "### 2. Definição dos Caminhos dos Arquivos (Dentro do Google Colab)."
      ],
      "metadata": {
        "id": "9hSDnbLsVZ5W"
      }
    },
    {
      "cell_type": "code",
      "source": [
        "file_paths = {\n",
        "    'global_temperature_anomalies': 'https://raw.githubusercontent.com/ProjetoAplicadoIV-MAC/ProjetoAplicadoIV/refs/heads/main/data/global-temperature-anomalies-by-month.csv',\n",
        "    'wildfires_area_burnt': 'https://raw.githubusercontent.com/ProjetoAplicadoIV-MAC/ProjetoAplicadoIV/refs/heads/main/data/cumulative-area-burnt-by-wildfires-by-week.csv',\n",
        "    'natural_disasters': 'https://raw.githubusercontent.com/ProjetoAplicadoIV-MAC/ProjetoAplicadoIV/refs/heads/main/data/natural-disasters.csv',\n",
        "    'temperature_anomaly': 'https://raw.githubusercontent.com/ProjetoAplicadoIV-MAC/ProjetoAplicadoIV/refs/heads/main/data/temperature-anomaly.csv',\n",
        "    'annual_mean_temperature': 'https://raw.githubusercontent.com/ProjetoAplicadoIV-MAC/ProjetoAplicadoIV/refs/heads/main/data/Indicator_3_1_Climate_Indicators_Annual_Mean_Global_Surface_Temperature_-6404917154628205853.csv',\n",
        "    'new_global_temp': 'https://raw.githubusercontent.com/ProjetoAplicadoIV-MAC/ProjetoAplicadoIV/refs/heads/main/data/Indicator_3_1_Climate_Indicators_Annual_Mean_Global_Surface_Temperature_7838445144233466279.csv'\n",
        "}\n",
        "\n",
        "datasets = {key: pd.read_csv(path) for key, path in file_paths.items()}"
      ],
      "metadata": {
        "id": "P36srrS3E5xq"
      },
      "execution_count": 3,
      "outputs": []
    },
    {
      "cell_type": "markdown",
      "source": [
        "### 3. Carregar e Preparar cada Conjunto de Dados"
      ],
      "metadata": {
        "id": "LRRVcmNGVheD"
      }
    },
    {
      "cell_type": "code",
      "source": [
        "dataframes = {name: pd.read_csv(path) for name, path in file_paths.items()}\n"
      ],
      "metadata": {
        "id": "U86ypWHxFAV_"
      },
      "execution_count": 4,
      "outputs": []
    },
    {
      "cell_type": "markdown",
      "source": [
        "### 4. Preparação das Anomalias Globais de Temperatura"
      ],
      "metadata": {
        "id": "uguJSE5pVnHN"
      }
    },
    {
      "cell_type": "code",
      "source": [
        "global_temperature_anomalies_df = dataframes['global_temperature_anomalies'].groupby('Year').agg(\n",
        "    avg_temp_anomaly=('Temperature anomaly', 'mean')\n",
        ").reset_index()\n"
      ],
      "metadata": {
        "id": "GG0M2GINGiBf"
      },
      "execution_count": 5,
      "outputs": []
    },
    {
      "cell_type": "markdown",
      "source": [
        "### 5. Área Queimada por Incêncios (Foco Global)"
      ],
      "metadata": {
        "id": "_EiPFaQZVtxL"
      }
    },
    {
      "cell_type": "code",
      "source": [
        "wildfires_area_burnt_df = dataframes['wildfires_area_burnt'].melt(\n",
        "    id_vars=['Year'],\n",
        "    value_vars=[col for col in dataframes['wildfires_area_burnt'].columns if 'Cumulative area burnt' in col],\n",
        "    var_name='Yearly_Burnt_Area',\n",
        "    value_name='burnt_area'\n",
        ").groupby('Year').agg({'burnt_area': 'max'}).reset_index()\n"
      ],
      "metadata": {
        "id": "CakDjFCIGnwg"
      },
      "execution_count": 6,
      "outputs": []
    },
    {
      "cell_type": "markdown",
      "source": [
        "### 6. Desastres Naturais (Foco Global)"
      ],
      "metadata": {
        "id": "DfDdXEGkV1Sp"
      }
    },
    {
      "cell_type": "code",
      "source": [
        "natural_disasters_df = dataframes['natural_disasters'].groupby('Year').agg(\n",
        "    total_disasters=('Number of total people affected by drought', 'sum'),\n",
        "    drought_impact=('Number of people affected from drought', 'sum')\n",
        ").reset_index()\n"
      ],
      "metadata": {
        "id": "Vwtp5zfDGqst"
      },
      "execution_count": 7,
      "outputs": []
    },
    {
      "cell_type": "markdown",
      "source": [
        "### 7. Anomalias de Temperatura (Relaticos a 1961 a 1990)"
      ],
      "metadata": {
        "id": "vhAxrqPYV7N1"
      }
    },
    {
      "cell_type": "code",
      "source": [
        "temperature_anomaly_df = dataframes['temperature_anomaly'].groupby('Year').agg(\n",
        "    avg_temp_anomaly=('Global average temperature anomaly relative to 1961-1990', 'mean')\n",
        ").reset_index()\n"
      ],
      "metadata": {
        "id": "MmoiVEPwG_5Y"
      },
      "execution_count": 8,
      "outputs": []
    },
    {
      "cell_type": "markdown",
      "source": [
        "### 8. Temperatura Média Anual Global"
      ],
      "metadata": {
        "id": "w3gw_bFTWBxN"
      }
    },
    {
      "cell_type": "code",
      "source": [
        "annual_mean_temp_df = dataframes['annual_mean_temperature'].melt(\n",
        "    id_vars=['Country'],\n",
        "    value_vars=[str(year) for year in range(1961, 2024)],\n",
        "    var_name='Year',\n",
        "    value_name='mean_temp'\n",
        ").groupby('Year').agg({'mean_temp': 'mean'}).reset_index()\n"
      ],
      "metadata": {
        "id": "r-2TQdp6IKcx"
      },
      "execution_count": 9,
      "outputs": []
    },
    {
      "cell_type": "markdown",
      "source": [
        "### 9. Novo Conjunto de Temperatura Média Global"
      ],
      "metadata": {
        "id": "HtENBAhEWG3I"
      }
    },
    {
      "cell_type": "code",
      "source": [
        "new_global_temp_df = dataframes['new_global_temp'].melt(\n",
        "    id_vars=['Country'],\n",
        "    value_vars=[str(year) for year in range(1961, 2024)],\n",
        "    var_name='Year',\n",
        "    value_name='mean_global_temp'\n",
        ").groupby('Year').agg({'mean_global_temp': 'mean'}).reset_index()\n"
      ],
      "metadata": {
        "id": "-ic7tGOdINsS"
      },
      "execution_count": 10,
      "outputs": []
    },
    {
      "cell_type": "markdown",
      "source": [
        "### 10. Garantir que todas as colunas 'Year' estejam no tipo inteiro para evitar erros de fusão"
      ],
      "metadata": {
        "id": "k9Z5bIfxWMO1"
      }
    },
    {
      "cell_type": "code",
      "source": [
        "annual_mean_temp_df['Year'] = annual_mean_temp_df['Year'].astype(int)\n",
        "new_global_temp_df['Year'] = new_global_temp_df['Year'].astype(int)\n",
        "global_temperature_anomalies_df['Year'] = global_temperature_anomalies_df['Year'].astype(int)\n",
        "wildfires_area_burnt_df['Year'] = wildfires_area_burnt_df['Year'].astype(int)\n",
        "natural_disasters_df['Year'] = natural_disasters_df['Year'].astype(int)\n",
        "temperature_anomaly_df['Year'] = temperature_anomaly_df['Year'].astype(int)\n"
      ],
      "metadata": {
        "id": "NW1r8GzfIQOY"
      },
      "execution_count": 11,
      "outputs": []
    },
    {
      "cell_type": "markdown",
      "source": [
        "### 11. Consolidar os dados globais em um único DataFrame novamente"
      ],
      "metadata": {
        "id": "MuRzf941WSTw"
      }
    },
    {
      "cell_type": "code",
      "source": [
        "merged_data_global = pd.merge(annual_mean_temp_df, new_global_temp_df, on=\"Year\", how=\"left\")\n",
        "merged_data_global = pd.merge(merged_data_global, global_temperature_anomalies_df, on=\"Year\", how=\"left\")\n",
        "merged_data_global = pd.merge(merged_data_global, wildfires_area_burnt_df, on=\"Year\", how=\"left\")\n",
        "merged_data_global = pd.merge(merged_data_global, natural_disasters_df, on=\"Year\", how=\"left\")\n",
        "merged_data_global = pd.merge(merged_data_global, temperature_anomaly_df, on=\"Year\", how=\"left\")\n"
      ],
      "metadata": {
        "id": "ImXQDvo-IS7c"
      },
      "execution_count": 12,
      "outputs": []
    },
    {
      "cell_type": "markdown",
      "source": [
        "### 12. Renomear colunas duplicadas para evitar confusão"
      ],
      "metadata": {
        "id": "3CIkssJcWYMp"
      }
    },
    {
      "cell_type": "code",
      "source": [
        "merged_data_global = merged_data_global.rename(columns={'avg_temp_anomaly_x': 'avg_temp_anomaly_1961_1990', 'avg_temp_anomaly_y': 'avg_temp_anomaly_1951_1980'})\n"
      ],
      "metadata": {
        "id": "-2iIHKKZIWmL"
      },
      "execution_count": 13,
      "outputs": []
    },
    {
      "cell_type": "markdown",
      "source": [
        "### 13. Verificar e preencher valores ausentes (se houver) para permitir análise contínua"
      ],
      "metadata": {
        "id": "UcRNPx1dWfeO"
      }
    },
    {
      "cell_type": "code",
      "source": [
        "merged_data_global = merged_data_global.fillna(0)\n"
      ],
      "metadata": {
        "id": "lrIzWI2QIYRE"
      },
      "execution_count": 14,
      "outputs": []
    },
    {
      "cell_type": "markdown",
      "source": [
        "### 14. Análise de correlação detalhada entre variáveis globais"
      ],
      "metadata": {
        "id": "WFOCP6L8WjiY"
      }
    },
    {
      "cell_type": "code",
      "source": [
        "correlation_matrix_global = merged_data_global[['mean_temp', 'mean_global_temp', 'avg_temp_anomaly_1961_1990', 'avg_temp_anomaly_1951_1980', 'burnt_area', 'total_disasters', 'drought_impact']].corr()\n"
      ],
      "metadata": {
        "id": "APUxOCYCIacC"
      },
      "execution_count": 15,
      "outputs": []
    },
    {
      "cell_type": "markdown",
      "source": [
        "### 15. Visualização de correlação entre variáveis globais"
      ],
      "metadata": {
        "id": "W6p6zk2DWo5h"
      }
    },
    {
      "cell_type": "code",
      "source": [
        "plt.figure(figsize=(12, 10))\n",
        "sns.heatmap(correlation_matrix_global, annot=True, cmap=\"coolwarm\", fmt=\".2f\")\n",
        "plt.title(\"Correlação entre Variáveis Climáticas e Impactos Naturais a Nível Global\")\n",
        "plt.show()"
      ],
      "metadata": {
        "colab": {
          "base_uri": "https://localhost:8080/",
          "height": 1000
        },
        "id": "zj1YrUUZIcwi",
        "outputId": "aba61413-756f-4088-fed3-f22e9e5f7446"
      },
      "execution_count": 16,
      "outputs": [
        {
          "output_type": "display_data",
          "data": {
            "text/plain": [
              "<Figure size 1200x1000 with 2 Axes>"
            ],
            "image/png": "[encoded data removed]"
          },
          "metadata": {}
        }
      ]
    },
    {
      "cell_type": "markdown",
      "source": [
        "# **Análise exploratória**"
      ],
      "metadata": {
        "id": "pB7f2rHmAWrh"
      }
    },
    {
      "cell_type": "markdown",
      "source": [
        "## Distribuições de Variáveis\n",
        "\n",
        "As distribuições analisadas revelam que a maioria dos dados está concentrada em intervalos menores, enquanto poucos valores se destacam como extremos, indicando uma assimetria positiva. Essa característica é comum em variáveis relacionadas a fenômenos naturais, como áreas queimadas, onde eventos extremos têm grande impacto. A análise dessas distribuições é crucial para identificar padrões gerais e eventos excepcionais, sem comprometer a representatividade dos dados."
      ],
      "metadata": {
        "id": "y6bH_vWPX8RH"
      }
    },
    {
      "cell_type": "code",
      "source": [
        "plt.figure(figsize=(12, 6))\n",
        "sns.histplot(\n",
        "    datasets['wildfires_area_burnt']['Cumulative area burnt by wildfires in 2024'],\n",
        "    kde=True,\n",
        "    bins=30,\n",
        "    color='skyblue',\n",
        "    alpha=0.7\n",
        ")\n",
        "plt.axvline(\n",
        "    datasets['wildfires_area_burnt']['Cumulative area burnt by wildfires in 2024'].mean(),\n",
        "    color='red',\n",
        "    linestyle='--',\n",
        "    label='Média'\n",
        ")\n",
        "plt.axvline(\n",
        "    datasets['wildfires_area_burnt']['Cumulative area burnt by wildfires in 2024'].median(),\n",
        "    color='green',\n",
        "    linestyle='--',\n",
        "    label='Mediana'\n",
        ")\n",
        "plt.xscale('log')\n",
        "plt.title(\"Distribuição das Áreas Queimadas (2024) - Escala Logarítmica\", fontsize=14)\n",
        "plt.xlabel(\"Área Queimada (Log)\", fontsize=12)\n",
        "plt.ylabel(\"Frequência\", fontsize=12)\n",
        "plt.legend()\n",
        "plt.grid(True)\n",
        "plt.show()"
      ],
      "metadata": {
        "colab": {
          "base_uri": "https://localhost:8080/",
          "height": 579
        },
        "id": "hikmd_9jYBiG",
        "outputId": "d08f6180-e771-431d-fece-7cb9af21e00e"
      },
      "execution_count": 17,
      "outputs": [
        {
          "output_type": "display_data",
          "data": {
            "text/plain": [
              "<Figure size 1200x600 with 1 Axes>"
            ],
            "image/png": "[encoded data removed]"
          },
          "metadata": {}
        }
      ]
    },
    {
      "cell_type": "markdown",
      "source": [
        "## Resumo Estatístico"
      ],
      "metadata": {
        "id": "kSyDmQOqYOfW"
      }
    },
    {
      "cell_type": "code",
      "source": [
        "stats_summary = datasets['wildfires_area_burnt'][['Cumulative area burnt by wildfires in 2023', 'Cumulative area burnt by wildfires in 2024']].describe()\n",
        "\n",
        "print(\"Resumo Estatístico:\")\n",
        "print(stats_summary)"
      ],
      "metadata": {
        "colab": {
          "base_uri": "https://localhost:8080/"
        },
        "id": "_dvq5PBcYQKO",
        "outputId": "7198a95d-5789-475e-e2bc-ed8375861089"
      },
      "execution_count": 18,
      "outputs": [
        {
          "output_type": "stream",
          "name": "stdout",
          "text": [
            "Resumo Estatístico:\n",
            "       Cumulative area burnt by wildfires in 2023  \\\n",
            "count                                1.341600e+04   \n",
            "mean                                 2.192520e+06   \n",
            "std                                  1.645480e+07   \n",
            "min                                  0.000000e+00   \n",
            "25%                                  0.000000e+00   \n",
            "50%                                  1.520000e+03   \n",
            "75%                                  1.299640e+05   \n",
            "max                                  3.999232e+08   \n",
            "\n",
            "       Cumulative area burnt by wildfires in 2024  \n",
            "count                                1.083600e+04  \n",
            "mean                                 1.705063e+06  \n",
            "std                                  1.270563e+07  \n",
            "min                                  0.000000e+00  \n",
            "25%                                  0.000000e+00  \n",
            "50%                                  1.164500e+03  \n",
            "75%                                  1.013560e+05  \n",
            "max                                  3.155978e+08  \n"
          ]
        }
      ]
    },
    {
      "cell_type": "markdown",
      "source": [
        "## Valores ausentes\n",
        "\n",
        "Os dados faltantes identificados representam uma pequena fração do dataset e estão concentrados em poucas colunas. Eles não comprometem a análise, pois as principais métricas e visualizações globais permanecem válidas. Assim, os valores ausentes não alteram significativamente os resultados, mas devem ser registrados caso sejam necessários ajustes futuros em análises mais detalhadas."
      ],
      "metadata": {
        "id": "gMeuSYOuXkdD"
      }
    },
    {
      "cell_type": "code",
      "source": [
        "missing_percent = datasets['wildfires_area_burnt'].isnull().mean() * 100\n",
        "missing_columns = missing_percent[missing_percent > 0].sort_values(ascending=False)\n",
        "\n",
        "fig, axes = plt.subplots(1, 2, figsize=(18, 8), gridspec_kw={'width_ratios': [4, 1]})\n",
        "\n",
        "sns.heatmap(\n",
        "    datasets['wildfires_area_burnt'][missing_columns.index].isnull(),\n",
        "    cmap=\"magma\",\n",
        "    cbar=False,\n",
        "    yticklabels=False,\n",
        "    ax=axes[0]\n",
        ")\n",
        "axes[0].set_title(\"Mapa de Dados Faltantes\", fontsize=16)\n",
        "axes[0].set_xlabel(\"Colunas\", fontsize=14)\n",
        "axes[0].set_xticklabels(axes[0].get_xticklabels(), rotation=30, ha='right')\n",
        "\n",
        "missing_percent.plot(kind='barh', color='orange', ax=axes[1])\n",
        "axes[1].set_title(\"Percentual de Faltantes\", fontsize=16)\n",
        "axes[1].set_xlabel(\"Percentual (%)\", fontsize=14)\n",
        "axes[1].invert_yaxis()\n",
        "\n",
        "plt.tight_layout()\n",
        "plt.show()"
      ],
      "metadata": {
        "colab": {
          "base_uri": "https://localhost:8080/",
          "height": 681
        },
        "id": "RF1PvWnTXqnH",
        "outputId": "68c9752e-665a-4fc6-bd8e-0f319fe8fdee"
      },
      "execution_count": 19,
      "outputs": [
        {
          "output_type": "display_data",
          "data": {
            "text/plain": [
              "<Figure size 1800x800 with 2 Axes>"
            ],
            "image/png": "[encoded data removed]"
          },
          "metadata": {}
        }
      ]
    },
    {
      "cell_type": "markdown",
      "source": [
        "## Detecção de Outliers\n",
        "Os outliers identificados refletem valores extremos que, embora possam parecer anômalos, são relevantes para entender a variabilidade e os extremos dos dados, especialmente em um contexto como áreas queimadas por incêndios. Esses valores não distorcem significativamente as análises globais e oferecem insights importantes sobre eventos excepcionais. Portanto, eles foram mantidos para preservar a integridade e a representatividade do dataset, sem comprometer a análise exploratória."
      ],
      "metadata": {
        "id": "OZbIK8Z2Sqtq"
      }
    },
    {
      "cell_type": "code",
      "source": [
        "Q1 = datasets['wildfires_area_burnt']['Cumulative area burnt by wildfires in 2024'].quantile(0.25)\n",
        "Q3 = datasets['wildfires_area_burnt']['Cumulative area burnt by wildfires in 2024'].quantile(0.75)\n",
        "IQR = Q3 - Q1\n",
        "\n",
        "lower_bound = Q1 - 1.5 * IQR\n",
        "upper_bound = Q3 + 1.5 * IQR\n",
        "\n",
        "outliers = datasets['wildfires_area_burnt'][\n",
        "    (datasets['wildfires_area_burnt']['Cumulative area burnt by wildfires in 2024'] < lower_bound) |\n",
        "    (datasets['wildfires_area_burnt']['Cumulative area burnt by wildfires in 2024'] > upper_bound)\n",
        "].copy()\n",
        "\n",
        "print(f\"Número de outliers detectados: {outliers.shape[0]}\")\n",
        "\n",
        "outliers['Year'] = outliers['Year'].apply(lambda x: f\"2024-S{x}\" if pd.notnull(x) else x)\n",
        "\n",
        "display(outliers.head())\n",
        "\n",
        "outliers.style.set_caption(\"Outliers Detectados\").set_table_styles(\n",
        "    [{'selector': 'caption',\n",
        "      'props': [('font-size', '16px'), ('font-weight', 'bold')]}]\n",
        ").background_gradient(cmap='coolwarm')\n",
        "\n",
        "plt.figure(figsize=(12, 6))\n",
        "sns.boxplot(\n",
        "    datasets['wildfires_area_burnt']['Cumulative area burnt by wildfires in 2024'],\n",
        "    color='lightblue'\n",
        ")\n",
        "plt.axhline(upper_bound, color='red', linestyle='--', label='Limite Superior')\n",
        "plt.axhline(lower_bound, color='blue', linestyle='--', label='Limite Inferior')\n",
        "plt.title(\"Boxplot com Detecção de Outliers\")\n",
        "plt.xlabel(\"Área Queimada Acumulada\")\n",
        "plt.legend()\n",
        "plt.show()"
      ],
      "metadata": {
        "colab": {
          "base_uri": "https://localhost:8080/",
          "height": 914
        },
        "id": "i63ATajQTTeQ",
        "outputId": "ab643279-50a6-4e75-b2c0-447cde5f14f2"
      },
      "execution_count": 20,
      "outputs": [
        {
          "output_type": "stream",
          "name": "stdout",
          "text": [
            "Número de outliers detectados: 2177\n"
          ]
        },
        {
          "output_type": "display_data",
          "data": {
            "text/plain": [
              "    Entity Code     Year  Cumulative area burnt by wildfires in 2024  \\\n",
              "52  Africa  NaN  2024-S1                                   6036545.0   \n",
              "53  Africa  NaN  2024-S2                                  13348644.0   \n",
              "54  Africa  NaN  2024-S3                                  20410756.0   \n",
              "55  Africa  NaN  2024-S4                                  26305088.0   \n",
              "56  Africa  NaN  2024-S5                                  30574132.0   \n",
              "\n",
              "    Cumulative area burnt by wildfires in 2023  \\\n",
              "52                                     6666179   \n",
              "53                                    12557409   \n",
              "54                                    17749108   \n",
              "55                                    21259392   \n",
              "56                                    25925048   \n",
              "\n",
              "    Cumulative area burnt by wildfires in 2022  \\\n",
              "52                                     5144202   \n",
              "53                                     9756614   \n",
              "54                                    16087510   \n",
              "55                                    23598920   \n",
              "56                                    29284988   \n",
              "\n",
              "    Cumulative area burnt by wildfires in 2021  \\\n",
              "52                                     5588420   \n",
              "53                                    12104797   \n",
              "54                                    19607614   \n",
              "55                                    25075222   \n",
              "56                                    31033704   \n",
              "\n",
              "    Cumulative area burnt by wildfires in 2020  \\\n",
              "52                                     6755805   \n",
              "53                                    15690848   \n",
              "54                                    23002390   \n",
              "55                                    30288632   \n",
              "56                                    35747224   \n",
              "\n",
              "    Cumulative area burnt by wildfires in 2019  \\\n",
              "52                                     7348274   \n",
              "53                                    13551613   \n",
              "54                                    18953312   \n",
              "55                                    23786566   \n",
              "56                                    27205250   \n",
              "\n",
              "    Cumulative area burnt by wildfires in 2018  \\\n",
              "52                                     7633876   \n",
              "53                                    15246456   \n",
              "54                                    21560340   \n",
              "55                                    27444772   \n",
              "56                                    29778856   \n",
              "\n",
              "    Cumulative area burnt by wildfires in 2017  \\\n",
              "52                                     8487175   \n",
              "53                                    15037080   \n",
              "54                                    20296248   \n",
              "55                                    25209708   \n",
              "56                                    30883774   \n",
              "\n",
              "    Cumulative area burnt by wildfires in 2016  \\\n",
              "52                                     8236975   \n",
              "53                                    15196647   \n",
              "54                                    21206728   \n",
              "55                                    30053124   \n",
              "56                                    37757776   \n",
              "\n",
              "    Cumulative area burnt by wildfires in 2015  \\\n",
              "52                                    10298865   \n",
              "53                                    19258672   \n",
              "54                                    25353208   \n",
              "55                                    31438240   \n",
              "56                                    37461180   \n",
              "\n",
              "    Cumulative area burnt by wildfires in 2014  \\\n",
              "52                                     8682071   \n",
              "53                                    15819910   \n",
              "54                                    21841872   \n",
              "55                                    25680104   \n",
              "56                                    30431592   \n",
              "\n",
              "    Cumulative area burnt by wildfires in 2013  \\\n",
              "52                                     8065530   \n",
              "53                                    15226982   \n",
              "54                                    21098824   \n",
              "55                                    25811904   \n",
              "56                                    32092086   \n",
              "\n",
              "    Cumulative area burnt by wildfires in 2012  \n",
              "52                                      561955  \n",
              "53                                     1134068  \n",
              "54                                     4291708  \n",
              "55                                    11044469  \n",
              "56                                    16706725  "
            ],
            "text/html": [
              "\n",
              "  <div id=\"df-c8c34ef3-c21c-4bbd-9d25-e57998917872\" class=\"colab-df-container\">\n",
              "    <div>\n",
              "<style scoped>\n",
              "    .dataframe tbody tr th:only-of-type {\n",
              "        vertical-align: middle;\n",
              "    }\n",
              "\n",
              "    .dataframe tbody tr th {\n",
              "        vertical-align: top;\n",
              "    }\n",
              "\n",
              "    .dataframe thead th {\n",
              "        text-align: right;\n",
              "    }\n",
              "</style>\n",
              "<table border=\"1\" class=\"dataframe\">\n",
              "  <thead>\n",
              "    <tr style=\"text-align: right;\">\n",
              "      <th></th>\n",
              "      <th>Entity</th>\n",
              "      <th>Code</th>\n",
              "      <th>Year</th>\n",
              "      <th>Cumulative area burnt by wildfires in 2024</th>\n",
              "      <th>Cumulative area burnt by wildfires in 2023</th>\n",
              "      <th>Cumulative area burnt by wildfires in 2022</th>\n",
              "      <th>Cumulative area burnt by wildfires in 2021</th>\n",
              "      <th>Cumulative area burnt by wildfires in 2020</th>\n",
              "      <th>Cumulative area burnt by wildfires in 2019</th>\n",
              "      <th>Cumulative area burnt by wildfires in 2018</th>\n",
              "      <th>Cumulative area burnt by wildfires in 2017</th>\n",
              "      <th>Cumulative area burnt by wildfires in 2016</th>\n",
              "      <th>Cumulative area burnt by wildfires in 2015</th>\n",
              "      <th>Cumulative area burnt by wildfires in 2014</th>\n",
              "      <th>Cumulative area burnt by wildfires in 2013</th>\n",
              "      <th>Cumulative area burnt by wildfires in 2012</th>\n",
              "    </tr>\n",
              "  </thead>\n",
              "  <tbody>\n",
              "    <tr>\n",
              "      <th>52</th>\n",
              "      <td>Africa</td>\n",
              "      <td>NaN</td>\n",
              "      <td>2024-S1</td>\n",
              "      <td>6036545.0</td>\n",
              "      <td>6666179</td>\n",
              "      <td>5144202</td>\n",
              "      <td>5588420</td>\n",
              "      <td>6755805</td>\n",
              "      <td>7348274</td>\n",
              "      <td>7633876</td>\n",
              "      <td>8487175</td>\n",
              "      <td>8236975</td>\n",
              "      <td>10298865</td>\n",
              "      <td>8682071</td>\n",
              "      <td>8065530</td>\n",
              "      <td>561955</td>\n",
              "    </tr>\n",
              "    <tr>\n",
              "      <th>53</th>\n",
              "      <td>Africa</td>\n",
              "      <td>NaN</td>\n",
              "      <td>2024-S2</td>\n",
              "      <td>13348644.0</td>\n",
              "      <td>12557409</td>\n",
              "      <td>9756614</td>\n",
              "      <td>12104797</td>\n",
              "      <td>15690848</td>\n",
              "      <td>13551613</td>\n",
              "      <td>15246456</td>\n",
              "      <td>15037080</td>\n",
              "      <td>15196647</td>\n",
              "      <td>19258672</td>\n",
              "      <td>15819910</td>\n",
              "      <td>15226982</td>\n",
              "      <td>1134068</td>\n",
              "    </tr>\n",
              "    <tr>\n",
              "      <th>54</th>\n",
              "      <td>Africa</td>\n",
              "      <td>NaN</td>\n",
              "      <td>2024-S3</td>\n",
              "      <td>20410756.0</td>\n",
              "      <td>17749108</td>\n",
              "      <td>16087510</td>\n",
              "      <td>19607614</td>\n",
              "      <td>23002390</td>\n",
              "      <td>18953312</td>\n",
              "      <td>21560340</td>\n",
              "      <td>20296248</td>\n",
              "      <td>21206728</td>\n",
              "      <td>25353208</td>\n",
              "      <td>21841872</td>\n",
              "      <td>21098824</td>\n",
              "      <td>4291708</td>\n",
              "    </tr>\n",
              "    <tr>\n",
              "      <th>55</th>\n",
              "      <td>Africa</td>\n",
              "      <td>NaN</td>\n",
              "      <td>2024-S4</td>\n",
              "      <td>26305088.0</td>\n",
              "      <td>21259392</td>\n",
              "      <td>23598920</td>\n",
              "      <td>25075222</td>\n",
              "      <td>30288632</td>\n",
              "      <td>23786566</td>\n",
              "      <td>27444772</td>\n",
              "      <td>25209708</td>\n",
              "      <td>30053124</td>\n",
              "      <td>31438240</td>\n",
              "      <td>25680104</td>\n",
              "      <td>25811904</td>\n",
              "      <td>11044469</td>\n",
              "    </tr>\n",
              "    <tr>\n",
              "      <th>56</th>\n",
              "      <td>Africa</td>\n",
              "      <td>NaN</td>\n",
              "      <td>2024-S5</td>\n",
              "      <td>30574132.0</td>\n",
              "      <td>25925048</td>\n",
              "      <td>29284988</td>\n",
              "      <td>31033704</td>\n",
              "      <td>35747224</td>\n",
              "      <td>27205250</td>\n",
              "      <td>29778856</td>\n",
              "      <td>30883774</td>\n",
              "      <td>37757776</td>\n",
              "      <td>37461180</td>\n",
              "      <td>30431592</td>\n",
              "      <td>32092086</td>\n",
              "      <td>16706725</td>\n",
              "    </tr>\n",
              "  </tbody>\n",
              "</table>\n",
              "</div>\n",
              "    <div class=\"colab-df-buttons\">\n",
              "\n",
              "  <div class=\"colab-df-container\">\n",
              "    <button class=\"colab-df-convert\" onclick=\"convertToInteractive('df-c8c34ef3-c21c-4bbd-9d25-e57998917872')\"\n",
              "            title=\"Convert this dataframe to an interactive table.\"\n",
              "            style=\"display:none;\">\n",
              "\n",
              "  <svg xmlns=\"http://www.w3.org/2000/svg\" height=\"24px\" viewBox=\"0 -960 960 960\">\n",
              "    <path d=\"M120-120v-720h720v720H120Zm60-500h600v-160H180v160Zm220 220h160v-160H400v160Zm0 220h160v-160H400v160ZM180-400h160v-160H180v160Zm440 0h160v-160H620v160ZM180-180h160v-160H180v160Zm440 0h160v-160H620v160Z\"/>\n",
              "  </svg>\n",
              "    </button>\n",
              "\n",
              "  <style>\n",
              "    .colab-df-container {\n",
              "      display:flex;\n",
              "      gap: 12px;\n",
              "    }\n",
              "\n",
              "    .colab-df-convert {\n",
              "      background-color: #E8F0FE;\n",
              "      border: none;\n",
              "      border-radius: 50%;\n",
              "      cursor: pointer;\n",
              "      display: none;\n",
              "      fill: #1967D2;\n",
              "      height: 32px;\n",
              "      padding: 0 0 0 0;\n",
              "      width: 32px;\n",
              "    }\n",
              "\n",
              "    .colab-df-convert:hover {\n",
              "      background-color: #E2EBFA;\n",
              "      box-shadow: 0px 1px 2px rgba(60, 64, 67, 0.3), 0px 1px 3px 1px rgba(60, 64, 67, 0.15);\n",
              "      fill: #174EA6;\n",
              "    }\n",
              "\n",
              "    .colab-df-buttons div {\n",
              "      margin-bottom: 4px;\n",
              "    }\n",
              "\n",
              "    [theme=dark] .colab-df-convert {\n",
              "      background-color: #3B4455;\n",
              "      fill: #D2E3FC;\n",
              "    }\n",
              "\n",
              "    [theme=dark] .colab-df-convert:hover {\n",
              "      background-color: #434B5C;\n",
              "      box-shadow: 0px 1px 3px 1px rgba(0, 0, 0, 0.15);\n",
              "      filter: drop-shadow(0px 1px 2px rgba(0, 0, 0, 0.3));\n",
              "      fill: #FFFFFF;\n",
              "    }\n",
              "  </style>\n",
              "\n",
              "    <script>\n",
              "      const buttonEl =\n",
              "        document.querySelector('#df-c8c34ef3-c21c-4bbd-9d25-e57998917872 button.colab-df-convert');\n",
              "      buttonEl.style.display =\n",
              "        google.colab.kernel.accessAllowed ? 'block' : 'none';\n",
              "\n",
              "      async function convertToInteractive(key) {\n",
              "        const element = document.querySelector('#df-c8c34ef3-c21c-4bbd-9d25-e57998917872');\n",
              "        const dataTable =\n",
              "          await google.colab.kernel.invokeFunction('convertToInteractive',\n",
              "                                                    [key], {});\n",
              "        if (!dataTable) return;\n",
              "\n",
              "        const docLinkHtml = 'Like what you see? Visit the ' +\n",
              "          '<a target=\"_blank\" href=https://colab.research.google.com/notebooks/data_table.ipynb>data table notebook</a>'\n",
              "          + ' to learn more about interactive tables.';\n",
              "        element.innerHTML = '';\n",
              "        dataTable['output_type'] = 'display_data';\n",
              "        await google.colab.output.renderOutput(dataTable, element);\n",
              "        const docLink = document.createElement('div');\n",
              "        docLink.innerHTML = docLinkHtml;\n",
              "        element.appendChild(docLink);\n",
              "      }\n",
              "    </script>\n",
              "  </div>\n",
              "\n",
              "\n",
              "<div id=\"df-fcd481b8-a9f6-4237-8095-cc747caade65\">\n",
              "  <button class=\"colab-df-quickchart\" onclick=\"quickchart('df-fcd481b8-a9f6-4237-8095-cc747caade65')\"\n",
              "            title=\"Suggest charts\"\n",
              "            style=\"display:none;\">\n",
              "\n",
              "<svg xmlns=\"http://www.w3.org/2000/svg\" height=\"24px\"viewBox=\"0 0 24 24\"\n",
              "     width=\"24px\">\n",
              "    <g>\n",
              "        <path d=\"M19 3H5c-1.1 0-2 .9-2 2v14c0 1.1.9 2 2 2h14c1.1 0 2-.9 2-2V5c0-1.1-.9-2-2-2zM9 17H7v-7h2v7zm4 0h-2V7h2v10zm4 0h-2v-4h2v4z\"/>\n",
              "    </g>\n",
              "</svg>\n",
              "  </button>\n",
              "\n",
              "<style>\n",
              "  .colab-df-quickchart {\n",
              "      --bg-color: #E8F0FE;\n",
              "      --fill-color: #1967D2;\n",
              "      --hover-bg-color: #E2EBFA;\n",
              "      --hover-fill-color: #174EA6;\n",
              "      --disabled-fill-color: #AAA;\n",
              "      --disabled-bg-color: #DDD;\n",
              "  }\n",
              "\n",
              "  [theme=dark] .colab-df-quickchart {\n",
              "      --bg-color: #3B4455;\n",
              "      --fill-color: #D2E3FC;\n",
              "      --hover-bg-color: #434B5C;\n",
              "      --hover-fill-color: #FFFFFF;\n",
              "      --disabled-bg-color: #3B4455;\n",
              "      --disabled-fill-color: #666;\n",
              "  }\n",
              "\n",
              "  .colab-df-quickchart {\n",
              "    background-color: var(--bg-color);\n",
              "    border: none;\n",
              "    border-radius: 50%;\n",
              "    cursor: pointer;\n",
              "    display: none;\n",
              "    fill: var(--fill-color);\n",
              "    height: 32px;\n",
              "    padding: 0;\n",
              "    width: 32px;\n",
              "  }\n",
              "\n",
              "  .colab-df-quickchart:hover {\n",
              "    background-color: var(--hover-bg-color);\n",
              "    box-shadow: 0 1px 2px rgba(60, 64, 67, 0.3), 0 1px 3px 1px rgba(60, 64, 67, 0.15);\n",
              "    fill: var(--button-hover-fill-color);\n",
              "  }\n",
              "\n",
              "  .colab-df-quickchart-complete:disabled,\n",
              "  .colab-df-quickchart-complete:disabled:hover {\n",
              "    background-color: var(--disabled-bg-color);\n",
              "    fill: var(--disabled-fill-color);\n",
              "    box-shadow: none;\n",
              "  }\n",
              "\n",
              "  .colab-df-spinner {\n",
              "    border: 2px solid var(--fill-color);\n",
              "    border-color: transparent;\n",
              "    border-bottom-color: var(--fill-color);\n",
              "    animation:\n",
              "      spin 1s steps(1) infinite;\n",
              "  }\n",
              "\n",
              "  @keyframes spin {\n",
              "    0% {\n",
              "      border-color: transparent;\n",
              "      border-bottom-color: var(--fill-color);\n",
              "      border-left-color: var(--fill-color);\n",
              "    }\n",
              "    20% {\n",
              "      border-color: transparent;\n",
              "      border-left-color: var(--fill-color);\n",
              "      border-top-color: var(--fill-color);\n",
              "    }\n",
              "    30% {\n",
              "      border-color: transparent;\n",
              "      border-left-color: var(--fill-color);\n",
              "      border-top-color: var(--fill-color);\n",
              "      border-right-color: var(--fill-color);\n",
              "    }\n",
              "    40% {\n",
              "      border-color: transparent;\n",
              "      border-right-color: var(--fill-color);\n",
              "      border-top-color: var(--fill-color);\n",
              "    }\n",
              "    60% {\n",
              "      border-color: transparent;\n",
              "      border-right-color: var(--fill-color);\n",
              "    }\n",
              "    80% {\n",
              "      border-color: transparent;\n",
              "      border-right-color: var(--fill-color);\n",
              "      border-bottom-color: var(--fill-color);\n",
              "    }\n",
              "    90% {\n",
              "      border-color: transparent;\n",
              "      border-bottom-color: var(--fill-color);\n",
              "    }\n",
              "  }\n",
              "</style>\n",
              "\n",
              "  <script>\n",
              "    async function quickchart(key) {\n",
              "      const quickchartButtonEl =\n",
              "        document.querySelector('#' + key + ' button');\n",
              "      quickchartButtonEl.disabled = true;  // To prevent multiple clicks.\n",
              "      quickchartButtonEl.classList.add('colab-df-spinner');\n",
              "      try {\n",
              "        const charts = await google.colab.kernel.invokeFunction(\n",
              "            'suggestCharts', [key], {});\n",
              "      } catch (error) {\n",
              "        console.error('Error during call to suggestCharts:', error);\n",
              "      }\n",
              "      quickchartButtonEl.classList.remove('colab-df-spinner');\n",
              "      quickchartButtonEl.classList.add('colab-df-quickchart-complete');\n",
              "    }\n",
              "    (() => {\n",
              "      let quickchartButtonEl =\n",
              "        document.querySelector('#df-fcd481b8-a9f6-4237-8095-cc747caade65 button');\n",
              "      quickchartButtonEl.style.display =\n",
              "        google.colab.kernel.accessAllowed ? 'block' : 'none';\n",
              "    })();\n",
              "  </script>\n",
              "</div>\n",
              "\n",
              "    </div>\n",
              "  </div>\n"
            ],
            "application/vnd.google.colaboratory.intrinsic+json": {
              "type": "dataframe",
              "repr_error": "0"
            }
          },
          "metadata": {}
        },
        {
          "output_type": "display_data",
          "data": {
            "text/plain": [
              "<Figure size 1200x600 with 1 Axes>"
            ],
            "image/png": "[encoded data removed]"
          },
          "metadata": {}
        }
      ]
    },
    {
      "cell_type": "markdown",
      "source": [
        "## Detalhes das Correlações\n",
        "\n",
        "A imagem de correlação mostra as inter-relações entre diversas variáveis climáticas e de impacto natural, a nível global. Abaixo, explicaremos cada correlação observada, com foco em como os aumentos de temperatura se relacionam com os desastres naturais, queimadas e as anomalias climáticas.\n",
        "\n",
        "### __1.Temperatura Média Global vs. Anomalias de Temperatura__\n",
        "\n",
        "#### Correlação entre mean_temp e avg_temp_anomaly_1961_1990:\n",
        "> Esta correlação é positiva e próxima de 1, indicando que, à medida que a temperatura média global aumenta, as anomalias em relação à média de 1961-1990 também aumentam. Esse comportamento é esperado, pois anomalias representam desvios das médias históricas, e o aumento das temperaturas globais intensifica esses desvios.\n",
        "\n",
        "#### Correlação entre mean_global_temp e avg_temp_anomaly_1951_1980:\n",
        "> Esta correlação também é muito forte e positiva. Ela revela uma relação direta entre o aumento das temperaturas globais e as anomalias de temperatura baseadas no período de 1951-1980, reforçando que o aquecimento global está amplificando os desvios das médias climáticas passadas.\n",
        "\n",
        "### __2.Temperatura vs. Área Queimada por Incêndios (burnt_area)__\n",
        "\n",
        "#### Correlação entre mean_temp e burnt_area:\n",
        "> Esta correlação positiva indica que, à medida que a temperatura média global sobe, a área queimada por incêndios tende a aumentar. Isso faz sentido, pois temperaturas mais altas estão frequentemente associadas a climas mais secos, o que cria condições ideais para incêndios. Assim, regiões com aumentos de temperatura mais acentuados experimentam maiores áreas de vegetação queimadas.\n",
        "\n",
        "#### Correlação entre avg_temp_anomaly_1961_1990 e burnt_area:\n",
        "> Uma correlação positiva aqui sugere que as anomalias de temperatura também estão associadas ao aumento da área queimada. Como as anomalias refletem variações em relação a um padrão climático passado, essas anomalias crescentes indicam uma mudança climática significativa que contribui para condições propícias a incêndios.\n",
        "\n",
        "### __3.Temperatura vs. Desastres Naturais__\n",
        "\n",
        "#### Correlação entre mean_temp e total_disasters:\n",
        "> Essa relação positiva sugere que o aumento da temperatura média global está associado ao aumento no número de desastres naturais. Isso pode incluir eventos como enchentes, secas e tempestades, que se tornam mais intensos e frequentes com o aquecimento global.\n",
        "\n",
        "#### Correlação entre mean_temp e drought_impact:\n",
        "> Uma correlação positiva indica que o impacto das secas aumenta com o aumento das temperaturas globais. O aquecimento global contribui para a redução da umidade do solo e aumento da evaporação, intensificando as secas em várias regiões do mundo.\n",
        "\n",
        "### __4.Relação entre Incêndios e Desastres Naturais__\n",
        "\n",
        "#### Correlação entre burnt_area e total_disasters:\n",
        "> Essa correlação indica que áreas com maiores incêndios também apresentam mais desastres naturais em geral, sugerindo uma conexão indireta entre as condições propícias a incêndios e outras consequências climáticas extremas. A relação pode estar ligada ao fato de que incêndios florestais afetam a vegetação e o solo, reduzindo a capacidade de absorção de água e contribuindo para deslizamentos e enchentes.\n",
        "\n",
        "### __5.Interpretação Geral__\n",
        "\n",
        "> Essas correlações sugerem que o aumento da temperatura global está diretamente ligado a uma série de consequências ambientais adversas, como um número crescente de desastres naturais e incêndios. A análise reforça a necessidade de monitoramento e mitigação, pois os eventos climáticos extremos parecem intensificar-se com o aumento das anomalias e da temperatura média global, colocando ecossistemas e biodiversidade em risco.\n"
      ],
      "metadata": {
        "id": "skF3bfHvJsUp"
      }
    },
    {
      "cell_type": "markdown",
      "source": [
        "# **Modelo Base**\n",
        "\n",
        "Conforme alinhado para a terceira etapa do Projeto, montamos um modelo de Aprendizado de Máquina (Totalmente executável e Reproduzível)."
      ],
      "metadata": {
        "id": "gDjUUrwzMWwu"
      }
    },
    {
      "cell_type": "markdown",
      "source": [
        "### 1. Importando as Bibliotecas Necessárias:"
      ],
      "metadata": {
        "id": "S68tjmAKOQUF"
      }
    },
    {
      "cell_type": "code",
      "source": [
        "import pandas as pd\n",
        "from sklearn.model_selection import train_test_split\n",
        "from sklearn.linear_model import LinearRegression\n",
        "from sklearn.metrics import mean_squared_error, r2_score"
      ],
      "metadata": {
        "id": "Sfr7O92ENM5r"
      },
      "execution_count": 21,
      "outputs": []
    },
    {
      "cell_type": "markdown",
      "source": [
        "### 2.Selecionando as Características e o Alvo:\n",
        "Selecionaremos as características e o alvo.\n",
        "Para este modelo, usaremos as seguintes características:\n",
        "\n",
        "- mean_temp: Temperatura média anual.\n",
        "- burnt_area: Área queimada por incêndios florestais.\n",
        "- total_disasters: Número total de desastres naturais.\n",
        "- drought_impact: Impacto da seca.\n",
        "\n",
        "O alvo será:\n",
        "\n",
        "- avg_temp_anomaly_1961_1990: Anomalia média da temperatura em relação ao período de 1961-1990."
      ],
      "metadata": {
        "id": "FOEzaKgdNjF-"
      }
    },
    {
      "cell_type": "code",
      "source": [
        "features = ['mean_temp', 'burnt_area', 'total_disasters', 'drought_impact']\n",
        "target = 'avg_temp_anomaly_1961_1990'\n",
        "\n",
        "X = merged_data_global[features]\n",
        "y = merged_data_global[target]"
      ],
      "metadata": {
        "id": "dAtM7J8PNV7p"
      },
      "execution_count": 22,
      "outputs": []
    },
    {
      "cell_type": "markdown",
      "source": [
        "### 3. Divisão dos dados em Conjuntos de Treinamento e Teste:"
      ],
      "metadata": {
        "id": "zIL1eySrN6v1"
      }
    },
    {
      "cell_type": "code",
      "source": [
        "X_train, X_test, y_train, y_test = train_test_split(X, y, test_size=0.2, random_state=42)"
      ],
      "metadata": {
        "id": "gQpxHh1fN5JZ"
      },
      "execution_count": 23,
      "outputs": []
    },
    {
      "cell_type": "markdown",
      "source": [
        "### 4. Treinamento do Modelo:\n",
        "\n",
        "- Usaremos um modelo de regressão Linear:"
      ],
      "metadata": {
        "id": "XhOCfnyeOwhX"
      }
    },
    {
      "cell_type": "code",
      "source": [
        "model = LinearRegression()\n",
        "model.fit(X_train, y_train)"
      ],
      "metadata": {
        "colab": {
          "base_uri": "https://localhost:8080/",
          "height": 80
        },
        "id": "Www-iX3AOA9N",
        "outputId": "7b368d4d-3ac0-4286-f827-5764bce9c502"
      },
      "execution_count": 24,
      "outputs": [
        {
          "output_type": "execute_result",
          "data": {
            "text/plain": [
              "LinearRegression()"
            ],
            "text/html": [
              "<style>#sk-container-id-1 {\n",
              "  /* Definition of color scheme common for light and dark mode */\n",
              "  --sklearn-color-text: black;\n",
              "  --sklearn-color-line: gray;\n",
              "  /* Definition of color scheme for unfitted estimators */\n",
              "  --sklearn-color-unfitted-level-0: #fff5e6;\n",
              "  --sklearn-color-unfitted-level-1: #f6e4d2;\n",
              "  --sklearn-color-unfitted-level-2: #ffe0b3;\n",
              "  --sklearn-color-unfitted-level-3: chocolate;\n",
              "  /* Definition of color scheme for fitted estimators */\n",
              "  --sklearn-color-fitted-level-0: #f0f8ff;\n",
              "  --sklearn-color-fitted-level-1: #d4ebff;\n",
              "  --sklearn-color-fitted-level-2: #b3dbfd;\n",
              "  --sklearn-color-fitted-level-3: cornflowerblue;\n",
              "\n",
              "  /* Specific color for light theme */\n",
              "  --sklearn-color-text-on-default-background: var(--sg-text-color, var(--theme-code-foreground, var(--jp-content-font-color1, black)));\n",
              "  --sklearn-color-background: var(--sg-background-color, var(--theme-background, var(--jp-layout-color0, white)));\n",
              "  --sklearn-color-border-box: var(--sg-text-color, var(--theme-code-foreground, var(--jp-content-font-color1, black)));\n",
              "  --sklearn-color-icon: #696969;\n",
              "\n",
              "  @media (prefers-color-scheme: dark) {\n",
              "    /* Redefinition of color scheme for dark theme */\n",
              "    --sklearn-color-text-on-default-background: var(--sg-text-color, var(--theme-code-foreground, var(--jp-content-font-color1, white)));\n",
              "    --sklearn-color-background: var(--sg-background-color, var(--theme-background, var(--jp-layout-color0, #111)));\n",
              "    --sklearn-color-border-box: var(--sg-text-color, var(--theme-code-foreground, var(--jp-content-font-color1, white)));\n",
              "    --sklearn-color-icon: #878787;\n",
              "  }\n",
              "}\n",
              "\n",
              "#sk-container-id-1 {\n",
              "  color: var(--sklearn-color-text);\n",
              "}\n",
              "\n",
              "#sk-container-id-1 pre {\n",
              "  padding: 0;\n",
              "}\n",
              "\n",
              "#sk-container-id-1 input.sk-hidden--visually {\n",
              "  border: 0;\n",
              "  clip: rect(1px 1px 1px 1px);\n",
              "  clip: rect(1px, 1px, 1px, 1px);\n",
              "  height: 1px;\n",
              "  margin: -1px;\n",
              "  overflow: hidden;\n",
              "  padding: 0;\n",
              "  position: absolute;\n",
              "  width: 1px;\n",
              "}\n",
              "\n",
              "#sk-container-id-1 div.sk-dashed-wrapped {\n",
              "  border: 1px dashed var(--sklearn-color-line);\n",
              "  margin: 0 0.4em 0.5em 0.4em;\n",
              "  box-sizing: border-box;\n",
              "  padding-bottom: 0.4em;\n",
              "  background-color: var(--sklearn-color-background);\n",
              "}\n",
              "\n",
              "#sk-container-id-1 div.sk-container {\n",
              "  /* jupyter's `normalize.less` sets `[hidden] { display: none; }`\n",
              "     but bootstrap.min.css set `[hidden] { display: none !important; }`\n",
              "     so we also need the `!important` here to be able to override the\n",
              "     default hidden behavior on the sphinx rendered scikit-learn.org.\n",
              "     See: https://github.com/scikit-learn/scikit-learn/issues/21755 */\n",
              "  display: inline-block !important;\n",
              "  position: relative;\n",
              "}\n",
              "\n",
              "#sk-container-id-1 div.sk-text-repr-fallback {\n",
              "  display: none;\n",
              "}\n",
              "\n",
              "div.sk-parallel-item,\n",
              "div.sk-serial,\n",
              "div.sk-item {\n",
              "  /* draw centered vertical line to link estimators */\n",
              "  background-image: linear-gradient(var(--sklearn-color-text-on-default-background), var(--sklearn-color-text-on-default-background));\n",
              "  background-size: 2px 100%;\n",
              "  background-repeat: no-repeat;\n",
              "  background-position: center center;\n",
              "}\n",
              "\n",
              "/* Parallel-specific style estimator block */\n",
              "\n",
              "#sk-container-id-1 div.sk-parallel-item::after {\n",
              "  content: \"\";\n",
              "  width: 100%;\n",
              "  border-bottom: 2px solid var(--sklearn-color-text-on-default-background);\n",
              "  flex-grow: 1;\n",
              "}\n",
              "\n",
              "#sk-container-id-1 div.sk-parallel {\n",
              "  display: flex;\n",
              "  align-items: stretch;\n",
              "  justify-content: center;\n",
              "  background-color: var(--sklearn-color-background);\n",
              "  position: relative;\n",
              "}\n",
              "\n",
              "#sk-container-id-1 div.sk-parallel-item {\n",
              "  display: flex;\n",
              "  flex-direction: column;\n",
              "}\n",
              "\n",
              "#sk-container-id-1 div.sk-parallel-item:first-child::after {\n",
              "  align-self: flex-end;\n",
              "  width: 50%;\n",
              "}\n",
              "\n",
              "#sk-container-id-1 div.sk-parallel-item:last-child::after {\n",
              "  align-self: flex-start;\n",
              "  width: 50%;\n",
              "}\n",
              "\n",
              "#sk-container-id-1 div.sk-parallel-item:only-child::after {\n",
              "  width: 0;\n",
              "}\n",
              "\n",
              "/* Serial-specific style estimator block */\n",
              "\n",
              "#sk-container-id-1 div.sk-serial {\n",
              "  display: flex;\n",
              "  flex-direction: column;\n",
              "  align-items: center;\n",
              "  background-color: var(--sklearn-color-background);\n",
              "  padding-right: 1em;\n",
              "  padding-left: 1em;\n",
              "}\n",
              "\n",
              "\n",
              "/* Toggleable style: style used for estimator/Pipeline/ColumnTransformer box that is\n",
              "clickable and can be expanded/collapsed.\n",
              "- Pipeline and ColumnTransformer use this feature and define the default style\n",
              "- Estimators will overwrite some part of the style using the `sk-estimator` class\n",
              "*/\n",
              "\n",
              "/* Pipeline and ColumnTransformer style (default) */\n",
              "\n",
              "#sk-container-id-1 div.sk-toggleable {\n",
              "  /* Default theme specific background. It is overwritten whether we have a\n",
              "  specific estimator or a Pipeline/ColumnTransformer */\n",
              "  background-color: var(--sklearn-color-background);\n",
              "}\n",
              "\n",
              "/* Toggleable label */\n",
              "#sk-container-id-1 label.sk-toggleable__label {\n",
              "  cursor: pointer;\n",
              "  display: block;\n",
              "  width: 100%;\n",
              "  margin-bottom: 0;\n",
              "  padding: 0.5em;\n",
              "  box-sizing: border-box;\n",
              "  text-align: center;\n",
              "}\n",
              "\n",
              "#sk-container-id-1 label.sk-toggleable__label-arrow:before {\n",
              "  /* Arrow on the left of the label */\n",
              "  content: \"▸\";\n",
              "  float: left;\n",
              "  margin-right: 0.25em;\n",
              "  color: var(--sklearn-color-icon);\n",
              "}\n",
              "\n",
              "#sk-container-id-1 label.sk-toggleable__label-arrow:hover:before {\n",
              "  color: var(--sklearn-color-text);\n",
              "}\n",
              "\n",
              "/* Toggleable content - dropdown */\n",
              "\n",
              "#sk-container-id-1 div.sk-toggleable__content {\n",
              "  max-height: 0;\n",
              "  max-width: 0;\n",
              "  overflow: hidden;\n",
              "  text-align: left;\n",
              "  /* unfitted */\n",
              "  background-color: var(--sklearn-color-unfitted-level-0);\n",
              "}\n",
              "\n",
              "#sk-container-id-1 div.sk-toggleable__content.fitted {\n",
              "  /* fitted */\n",
              "  background-color: var(--sklearn-color-fitted-level-0);\n",
              "}\n",
              "\n",
              "#sk-container-id-1 div.sk-toggleable__content pre {\n",
              "  margin: 0.2em;\n",
              "  border-radius: 0.25em;\n",
              "  color: var(--sklearn-color-text);\n",
              "  /* unfitted */\n",
              "  background-color: var(--sklearn-color-unfitted-level-0);\n",
              "}\n",
              "\n",
              "#sk-container-id-1 div.sk-toggleable__content.fitted pre {\n",
              "  /* unfitted */\n",
              "  background-color: var(--sklearn-color-fitted-level-0);\n",
              "}\n",
              "\n",
              "#sk-container-id-1 input.sk-toggleable__control:checked~div.sk-toggleable__content {\n",
              "  /* Expand drop-down */\n",
              "  max-height: 200px;\n",
              "  max-width: 100%;\n",
              "  overflow: auto;\n",
              "}\n",
              "\n",
              "#sk-container-id-1 input.sk-toggleable__control:checked~label.sk-toggleable__label-arrow:before {\n",
              "  content: \"▾\";\n",
              "}\n",
              "\n",
              "/* Pipeline/ColumnTransformer-specific style */\n",
              "\n",
              "#sk-container-id-1 div.sk-label input.sk-toggleable__control:checked~label.sk-toggleable__label {\n",
              "  color: var(--sklearn-color-text);\n",
              "  background-color: var(--sklearn-color-unfitted-level-2);\n",
              "}\n",
              "\n",
              "#sk-container-id-1 div.sk-label.fitted input.sk-toggleable__control:checked~label.sk-toggleable__label {\n",
              "  background-color: var(--sklearn-color-fitted-level-2);\n",
              "}\n",
              "\n",
              "/* Estimator-specific style */\n",
              "\n",
              "/* Colorize estimator box */\n",
              "#sk-container-id-1 div.sk-estimator input.sk-toggleable__control:checked~label.sk-toggleable__label {\n",
              "  /* unfitted */\n",
              "  background-color: var(--sklearn-color-unfitted-level-2);\n",
              "}\n",
              "\n",
              "#sk-container-id-1 div.sk-estimator.fitted input.sk-toggleable__control:checked~label.sk-toggleable__label {\n",
              "  /* fitted */\n",
              "  background-color: var(--sklearn-color-fitted-level-2);\n",
              "}\n",
              "\n",
              "#sk-container-id-1 div.sk-label label.sk-toggleable__label,\n",
              "#sk-container-id-1 div.sk-label label {\n",
              "  /* The background is the default theme color */\n",
              "  color: var(--sklearn-color-text-on-default-background);\n",
              "}\n",
              "\n",
              "/* On hover, darken the color of the background */\n",
              "#sk-container-id-1 div.sk-label:hover label.sk-toggleable__label {\n",
              "  color: var(--sklearn-color-text);\n",
              "  background-color: var(--sklearn-color-unfitted-level-2);\n",
              "}\n",
              "\n",
              "/* Label box, darken color on hover, fitted */\n",
              "#sk-container-id-1 div.sk-label.fitted:hover label.sk-toggleable__label.fitted {\n",
              "  color: var(--sklearn-color-text);\n",
              "  background-color: var(--sklearn-color-fitted-level-2);\n",
              "}\n",
              "\n",
              "/* Estimator label */\n",
              "\n",
              "#sk-container-id-1 div.sk-label label {\n",
              "  font-family: monospace;\n",
              "  font-weight: bold;\n",
              "  display: inline-block;\n",
              "  line-height: 1.2em;\n",
              "}\n",
              "\n",
              "#sk-container-id-1 div.sk-label-container {\n",
              "  text-align: center;\n",
              "}\n",
              "\n",
              "/* Estimator-specific */\n",
              "#sk-container-id-1 div.sk-estimator {\n",
              "  font-family: monospace;\n",
              "  border: 1px dotted var(--sklearn-color-border-box);\n",
              "  border-radius: 0.25em;\n",
              "  box-sizing: border-box;\n",
              "  margin-bottom: 0.5em;\n",
              "  /* unfitted */\n",
              "  background-color: var(--sklearn-color-unfitted-level-0);\n",
              "}\n",
              "\n",
              "#sk-container-id-1 div.sk-estimator.fitted {\n",
              "  /* fitted */\n",
              "  background-color: var(--sklearn-color-fitted-level-0);\n",
              "}\n",
              "\n",
              "/* on hover */\n",
              "#sk-container-id-1 div.sk-estimator:hover {\n",
              "  /* unfitted */\n",
              "  background-color: var(--sklearn-color-unfitted-level-2);\n",
              "}\n",
              "\n",
              "#sk-container-id-1 div.sk-estimator.fitted:hover {\n",
              "  /* fitted */\n",
              "  background-color: var(--sklearn-color-fitted-level-2);\n",
              "}\n",
              "\n",
              "/* Specification for estimator info (e.g. \"i\" and \"?\") */\n",
              "\n",
              "/* Common style for \"i\" and \"?\" */\n",
              "\n",
              ".sk-estimator-doc-link,\n",
              "a:link.sk-estimator-doc-link,\n",
              "a:visited.sk-estimator-doc-link {\n",
              "  float: right;\n",
              "  font-size: smaller;\n",
              "  line-height: 1em;\n",
              "  font-family: monospace;\n",
              "  background-color: var(--sklearn-color-background);\n",
              "  border-radius: 1em;\n",
              "  height: 1em;\n",
              "  width: 1em;\n",
              "  text-decoration: none !important;\n",
              "  margin-left: 1ex;\n",
              "  /* unfitted */\n",
              "  border: var(--sklearn-color-unfitted-level-1) 1pt solid;\n",
              "  color: var(--sklearn-color-unfitted-level-1);\n",
              "}\n",
              "\n",
              ".sk-estimator-doc-link.fitted,\n",
              "a:link.sk-estimator-doc-link.fitted,\n",
              "a:visited.sk-estimator-doc-link.fitted {\n",
              "  /* fitted */\n",
              "  border: var(--sklearn-color-fitted-level-1) 1pt solid;\n",
              "  color: var(--sklearn-color-fitted-level-1);\n",
              "}\n",
              "\n",
              "/* On hover */\n",
              "div.sk-estimator:hover .sk-estimator-doc-link:hover,\n",
              ".sk-estimator-doc-link:hover,\n",
              "div.sk-label-container:hover .sk-estimator-doc-link:hover,\n",
              ".sk-estimator-doc-link:hover {\n",
              "  /* unfitted */\n",
              "  background-color: var(--sklearn-color-unfitted-level-3);\n",
              "  color: var(--sklearn-color-background);\n",
              "  text-decoration: none;\n",
              "}\n",
              "\n",
              "div.sk-estimator.fitted:hover .sk-estimator-doc-link.fitted:hover,\n",
              ".sk-estimator-doc-link.fitted:hover,\n",
              "div.sk-label-container:hover .sk-estimator-doc-link.fitted:hover,\n",
              ".sk-estimator-doc-link.fitted:hover {\n",
              "  /* fitted */\n",
              "  background-color: var(--sklearn-color-fitted-level-3);\n",
              "  color: var(--sklearn-color-background);\n",
              "  text-decoration: none;\n",
              "}\n",
              "\n",
              "/* Span, style for the box shown on hovering the info icon */\n",
              ".sk-estimator-doc-link span {\n",
              "  display: none;\n",
              "  z-index: 9999;\n",
              "  position: relative;\n",
              "  font-weight: normal;\n",
              "  right: .2ex;\n",
              "  padding: .5ex;\n",
              "  margin: .5ex;\n",
              "  width: min-content;\n",
              "  min-width: 20ex;\n",
              "  max-width: 50ex;\n",
              "  color: var(--sklearn-color-text);\n",
              "  box-shadow: 2pt 2pt 4pt #999;\n",
              "  /* unfitted */\n",
              "  background: var(--sklearn-color-unfitted-level-0);\n",
              "  border: .5pt solid var(--sklearn-color-unfitted-level-3);\n",
              "}\n",
              "\n",
              ".sk-estimator-doc-link.fitted span {\n",
              "  /* fitted */\n",
              "  background: var(--sklearn-color-fitted-level-0);\n",
              "  border: var(--sklearn-color-fitted-level-3);\n",
              "}\n",
              "\n",
              ".sk-estimator-doc-link:hover span {\n",
              "  display: block;\n",
              "}\n",
              "\n",
              "/* \"?\"-specific style due to the `<a>` HTML tag */\n",
              "\n",
              "#sk-container-id-1 a.estimator_doc_link {\n",
              "  float: right;\n",
              "  font-size: 1rem;\n",
              "  line-height: 1em;\n",
              "  font-family: monospace;\n",
              "  background-color: var(--sklearn-color-background);\n",
              "  border-radius: 1rem;\n",
              "  height: 1rem;\n",
              "  width: 1rem;\n",
              "  text-decoration: none;\n",
              "  /* unfitted */\n",
              "  color: var(--sklearn-color-unfitted-level-1);\n",
              "  border: var(--sklearn-color-unfitted-level-1) 1pt solid;\n",
              "}\n",
              "\n",
              "#sk-container-id-1 a.estimator_doc_link.fitted {\n",
              "  /* fitted */\n",
              "  border: var(--sklearn-color-fitted-level-1) 1pt solid;\n",
              "  color: var(--sklearn-color-fitted-level-1);\n",
              "}\n",
              "\n",
              "/* On hover */\n",
              "#sk-container-id-1 a.estimator_doc_link:hover {\n",
              "  /* unfitted */\n",
              "  background-color: var(--sklearn-color-unfitted-level-3);\n",
              "  color: var(--sklearn-color-background);\n",
              "  text-decoration: none;\n",
              "}\n",
              "\n",
              "#sk-container-id-1 a.estimator_doc_link.fitted:hover {\n",
              "  /* fitted */\n",
              "  background-color: var(--sklearn-color-fitted-level-3);\n",
              "}\n",
              "</style><div id=\"sk-container-id-1\" class=\"sk-top-container\"><div class=\"sk-text-repr-fallback\"><pre>LinearRegression()</pre><b>In a Jupyter environment, please rerun this cell to show the HTML representation or trust the notebook. <br />On GitHub, the HTML representation is unable to render, please try loading this page with nbviewer.org.</b></div><div class=\"sk-container\" hidden><div class=\"sk-item\"><div class=\"sk-estimator fitted sk-toggleable\"><input class=\"sk-toggleable__control sk-hidden--visually\" id=\"sk-estimator-id-1\" type=\"checkbox\" checked><label for=\"sk-estimator-id-1\" class=\"sk-toggleable__label fitted sk-toggleable__label-arrow fitted\">&nbsp;&nbsp;LinearRegression<a class=\"sk-estimator-doc-link fitted\" rel=\"noreferrer\" target=\"_blank\" href=\"https://scikit-learn.org/1.5/modules/generated/sklearn.linear_model.LinearRegression.html\">?<span>Documentation for LinearRegression</span></a><span class=\"sk-estimator-doc-link fitted\">i<span>Fitted</span></span></label><div class=\"sk-toggleable__content fitted\"><pre>LinearRegression()</pre></div> </div></div></div></div>"
            ]
          },
          "metadata": {},
          "execution_count": 24
        }
      ]
    },
    {
      "cell_type": "markdown",
      "source": [
        "### 5. Avaliação do Modelo:"
      ],
      "metadata": {
        "id": "qugiSzVtO-gq"
      }
    },
    {
      "cell_type": "code",
      "source": [
        "y_pred = model.predict(X_test)\n",
        "\n",
        "mse = mean_squared_error(y_test, y_pred)\n",
        "r2 = r2_score(y_test, y_pred)\n",
        "\n",
        "print(f\"Erro Quadrático Médio (MSE): {mse}\")\n",
        "print(f\"R-quadrado (R2): {r2}\")"
      ],
      "metadata": {
        "colab": {
          "base_uri": "https://localhost:8080/"
        },
        "id": "IT4hyrcDOEQI",
        "outputId": "79677716-1ae6-42f5-da2c-029f2ef8e146"
      },
      "execution_count": 25,
      "outputs": [
        {
          "output_type": "stream",
          "name": "stdout",
          "text": [
            "Erro Quadrático Médio (MSE): 39.51849814236352\n",
            "R-quadrado (R2): -283.45999799315894\n"
          ]
        }
      ]
    },
    {
      "cell_type": "markdown",
      "source": [
        "### 6. Explicação do Modelo e do Resultado:\n",
        "\n",
        "### Método Aplicado:\n",
        "\n",
        "Utilizamos o método de Regressão Linear para construir o modelo. Este método tem como objetivo encontrar a melhor reta que representa a relação entre as variáveis independentes (características) e a variável dependente (alvo). No nosso caso, buscamos a reta que melhor descreve a relação entre a anomalia média da temperatura (avg_temp_anomaly_1961_1990) e as características selecionadas (mean_temp, burnt_area, total_disasters, drought_impact).\n",
        "\n",
        "### Etapas do Método:\n",
        "\n",
        "- Preparação dos Dados: Selecionamos as características e o alvo do modelo, e dividimos os dados em conjuntos de treinamento e teste.\n",
        "- Treinamento do Modelo: O modelo de Regressão Linear foi treinado utilizando os dados de treinamento, ajustando os coeficientes da reta para minimizar o erro entre as previsões e os valores reais.\n",
        "- Avaliação do Modelo: O modelo treinado foi avaliado utilizando os dados de teste. As métricas utilizadas para avaliação foram o Erro Quadrático Médio (MSE) e o R-quadrado (R2).\n",
        "\n",
        "### Métodos Estatísticos Utilizados:\n",
        "\n",
        "- Erro Quadrático Médio (MSE): O MSE mede a média dos quadrados das diferenças entre as previsões do modelo e os valores reais. Um valor menor de MSE indica um modelo com melhor desempenho.\n",
        "\n",
        "- R-quadrado (R2): O R2 mede a proporção da variância na variável dependente que é explicada pelas variáveis independentes. Um valor de R2 mais próximo de 1 indica um modelo com melhor ajuste aos dados.\n",
        "\n",
        "### Análise dos Resultados:\n",
        "\n",
        "- Erro Quadrático Médio (MSE): 39.51849814236352\n",
        "> Este valor representa a média dos quadrados das diferenças entre as previsões do modelo e os valores reais da anomalia de temperatura. Em outras palavras, indica o quão \"erradas\" são as previsões do modelo, em média. Um valor menor de MSE é desejável, pois indica um modelo com menor erro. No entanto, o valor de MSE por si só não é suficiente para avaliar a qualidade do modelo, pois depende da escala dos dados. Por exemplo, um MSE de 39.5 pode ser considerado bom para um conjunto de dados com valores muito grandes, mas ruim para um conjunto de dados com valores pequenos.\n",
        "\n",
        "- R-quadrado (R2): -283.45999799315894\n",
        "> Este valor é preocupante, pois indica que o modelo está tendo um desempenho muito ruim. Um R2 negativo significa que o modelo está se ajustando aos dados pior do que uma linha horizontal, que representa a média dos valores da variável dependente. Em outras palavras, o modelo está fazendo previsões piores do que se simplesmente prevíssemos a média da anomalia de temperatura para todos os casos. Isso sugere que o modelo não está capturando a relação entre as variáveis independentes e a variável dependente, ou que a relação entre elas não é linear.\n"
      ],
      "metadata": {
        "id": "K9v33Pv-PGQf"
      }
    },
    {
      "cell_type": "markdown",
      "source": [
        "# **Resultados**\n",
        "\n",
        "Apresentr os resultados obtidos, métricas, tabelas comparativas, etc."
      ],
      "metadata": {
        "id": "GXUUEfHdKtpe"
      }
    },
    {
      "cell_type": "markdown",
      "source": [
        "# **Dicussão e Conclusão**\n",
        "\n",
        "Conclusões; análise crítica do trabalho (suas qualidades e limitações); alcance do objetivo inicial (a solução do problema); potenciais melhorias no projeto."
      ],
      "metadata": {
        "id": "igYUYSX8MY45"
      }
    },
    {
      "cell_type": "markdown",
      "source": [
        "# **Apresentação**\n",
        "\n",
        "Colocar os links dos vídeos."
      ],
      "metadata": {
        "id": "ufx471UaS6oc"
      }
    },
    {
      "cell_type": "markdown",
      "metadata": {
        "id": "kZ9OW5ExtM8G"
      },
      "source": [
        "# **Referências**\n",
        "\n",
        "Complementar a entrega anterior.\n",
        "\n",
        "\n"
      ]
    },
    {
      "cell_type": "code",
      "metadata": {
        "id": "BluFtfHuCGzm"
      },
      "source": [
        "#@title **Avaliação**\n",
        "Problema = 10 #@param {type:\"slider\", min:0, max:10, step:1}\n",
        "\n",
        "Metodologia = 10 #@param {type:\"slider\", min:0, max:10, step:1}\n",
        "\n",
        "Resultados = 10 #@param {type:\"slider\", min:0, max:10, step:1}\n",
        "\n",
        "Conclusao = 10 #@param {type:\"slider\", min:0, max:10, step:1}\n",
        "\n",
        "Apresentacao_geral = 10 #@param {type:\"slider\", min:0, max:10, step:1}\n",
        "\n",
        "Artigo = 10 #@param {type:\"slider\", min:0, max:10, step:1}\n",
        "\n",
        "\n",
        "\n",
        "\n",
        "\n",
        "\n",
        "\n"
      ],
      "execution_count": null,
      "outputs": []
    },
    {
      "cell_type": "code",
      "metadata": {
        "colab": {
          "base_uri": "https://localhost:8080/",
          "height": 261
        },
        "id": "2Gqw7hUZHyle",
        "outputId": "e9d2a010-09de-403d-984f-830cd0ad38d4"
      },
      "source": [
        "#@title **Nota Final**\n",
        "nota = 0.1*Problema + 0.3*Metodologia + 0.2*Resultados + 0.2*Conclusao + 0.2*Artigo\n",
        "\n",
        "print(f'Nota final do trabalho {nota :.1f}')\n",
        "\n",
        "import numpy as np\n",
        "import pandas as pd\n",
        "\n",
        "alunos = pd.DataFrame()\n",
        "\n",
        "lista_nome = []\n",
        "\n",
        "for i in range(1,6):\n",
        "  exec(\"if Aluno\" + str(i) + \" !='None':  lista = Aluno\" + str(i) + \".split(','); lista_nome.append(lista[0]);\")\n",
        "\n",
        "alunos['nome'] = lista_nome\n",
        "alunos['nota'] = np.round(nota,1)\n",
        "print()\n",
        "display(alunos)"
      ],
      "execution_count": null,
      "outputs": [
        {
          "output_type": "stream",
          "name": "stdout",
          "text": [
            "Nota final do trabalho 10.0\n",
            "\n"
          ]
        },
        {
          "output_type": "display_data",
          "data": {
            "text/plain": [
              "      nome  nota\n",
              "0  Aluno 1  10.0\n",
              "1  Aluno 2  10.0\n",
              "2  Aluno 3  10.0\n",
              "3  Aluno 4  10.0\n",
              "4  Aluno 5  10.0"
            ],
            "text/html": [
              "\n",
              "  <div id=\"df-2c354da1-acc7-4935-9294-93f4402e4e07\" class=\"colab-df-container\">\n",
              "    <div>\n",
              "<style scoped>\n",
              "    .dataframe tbody tr th:only-of-type {\n",
              "        vertical-align: middle;\n",
              "    }\n",
              "\n",
              "    .dataframe tbody tr th {\n",
              "        vertical-align: top;\n",
              "    }\n",
              "\n",
              "    .dataframe thead th {\n",
              "        text-align: right;\n",
              "    }\n",
              "</style>\n",
              "<table border=\"1\" class=\"dataframe\">\n",
              "  <thead>\n",
              "    <tr style=\"text-align: right;\">\n",
              "      <th></th>\n",
              "      <th>nome</th>\n",
              "      <th>nota</th>\n",
              "    </tr>\n",
              "  </thead>\n",
              "  <tbody>\n",
              "    <tr>\n",
              "      <th>0</th>\n",
              "      <td>Aluno 1</td>\n",
              "      <td>10.0</td>\n",
              "    </tr>\n",
              "    <tr>\n",
              "      <th>1</th>\n",
              "      <td>Aluno 2</td>\n",
              "      <td>10.0</td>\n",
              "    </tr>\n",
              "    <tr>\n",
              "      <th>2</th>\n",
              "      <td>Aluno 3</td>\n",
              "      <td>10.0</td>\n",
              "    </tr>\n",
              "    <tr>\n",
              "      <th>3</th>\n",
              "      <td>Aluno 4</td>\n",
              "      <td>10.0</td>\n",
              "    </tr>\n",
              "    <tr>\n",
              "      <th>4</th>\n",
              "      <td>Aluno 5</td>\n",
              "      <td>10.0</td>\n",
              "    </tr>\n",
              "  </tbody>\n",
              "</table>\n",
              "</div>\n",
              "    <div class=\"colab-df-buttons\">\n",
              "\n",
              "  <div class=\"colab-df-container\">\n",
              "    <button class=\"colab-df-convert\" onclick=\"convertToInteractive('df-2c354da1-acc7-4935-9294-93f4402e4e07')\"\n",
              "            title=\"Convert this dataframe to an interactive table.\"\n",
              "            style=\"display:none;\">\n",
              "\n",
              "  <svg xmlns=\"http://www.w3.org/2000/svg\" height=\"24px\" viewBox=\"0 -960 960 960\">\n",
              "    <path d=\"M120-120v-720h720v720H120Zm60-500h600v-160H180v160Zm220 220h160v-160H400v160Zm0 220h160v-160H400v160ZM180-400h160v-160H180v160Zm440 0h160v-160H620v160ZM180-180h160v-160H180v160Zm440 0h160v-160H620v160Z\"/>\n",
              "  </svg>\n",
              "    </button>\n",
              "\n",
              "  <style>\n",
              "    .colab-df-container {\n",
              "      display:flex;\n",
              "      gap: 12px;\n",
              "    }\n",
              "\n",
              "    .colab-df-convert {\n",
              "      background-color: #E8F0FE;\n",
              "      border: none;\n",
              "      border-radius: 50%;\n",
              "      cursor: pointer;\n",
              "      display: none;\n",
              "      fill: #1967D2;\n",
              "      height: 32px;\n",
              "      padding: 0 0 0 0;\n",
              "      width: 32px;\n",
              "    }\n",
              "\n",
              "    .colab-df-convert:hover {\n",
              "      background-color: #E2EBFA;\n",
              "      box-shadow: 0px 1px 2px rgba(60, 64, 67, 0.3), 0px 1px 3px 1px rgba(60, 64, 67, 0.15);\n",
              "      fill: #174EA6;\n",
              "    }\n",
              "\n",
              "    .colab-df-buttons div {\n",
              "      margin-bottom: 4px;\n",
              "    }\n",
              "\n",
              "    [theme=dark] .colab-df-convert {\n",
              "      background-color: #3B4455;\n",
              "      fill: #D2E3FC;\n",
              "    }\n",
              "\n",
              "    [theme=dark] .colab-df-convert:hover {\n",
              "      background-color: #434B5C;\n",
              "      box-shadow: 0px 1px 3px 1px rgba(0, 0, 0, 0.15);\n",
              "      filter: drop-shadow(0px 1px 2px rgba(0, 0, 0, 0.3));\n",
              "      fill: #FFFFFF;\n",
              "    }\n",
              "  </style>\n",
              "\n",
              "    <script>\n",
              "      const buttonEl =\n",
              "        document.querySelector('#df-2c354da1-acc7-4935-9294-93f4402e4e07 button.colab-df-convert');\n",
              "      buttonEl.style.display =\n",
              "        google.colab.kernel.accessAllowed ? 'block' : 'none';\n",
              "\n",
              "      async function convertToInteractive(key) {\n",
              "        const element = document.querySelector('#df-2c354da1-acc7-4935-9294-93f4402e4e07');\n",
              "        const dataTable =\n",
              "          await google.colab.kernel.invokeFunction('convertToInteractive',\n",
              "                                                    [key], {});\n",
              "        if (!dataTable) return;\n",
              "\n",
              "        const docLinkHtml = 'Like what you see? Visit the ' +\n",
              "          '<a target=\"_blank\" href=https://colab.research.google.com/notebooks/data_table.ipynb>data table notebook</a>'\n",
              "          + ' to learn more about interactive tables.';\n",
              "        element.innerHTML = '';\n",
              "        dataTable['output_type'] = 'display_data';\n",
              "        await google.colab.output.renderOutput(dataTable, element);\n",
              "        const docLink = document.createElement('div');\n",
              "        docLink.innerHTML = docLinkHtml;\n",
              "        element.appendChild(docLink);\n",
              "      }\n",
              "    </script>\n",
              "  </div>\n",
              "\n",
              "\n",
              "<div id=\"df-ba118d97-5a83-4e88-981d-3be5e4c8b222\">\n",
              "  <button class=\"colab-df-quickchart\" onclick=\"quickchart('df-ba118d97-5a83-4e88-981d-3be5e4c8b222')\"\n",
              "            title=\"Suggest charts\"\n",
              "            style=\"display:none;\">\n",
              "\n",
              "<svg xmlns=\"http://www.w3.org/2000/svg\" height=\"24px\"viewBox=\"0 0 24 24\"\n",
              "     width=\"24px\">\n",
              "    <g>\n",
              "        <path d=\"M19 3H5c-1.1 0-2 .9-2 2v14c0 1.1.9 2 2 2h14c1.1 0 2-.9 2-2V5c0-1.1-.9-2-2-2zM9 17H7v-7h2v7zm4 0h-2V7h2v10zm4 0h-2v-4h2v4z\"/>\n",
              "    </g>\n",
              "</svg>\n",
              "  </button>\n",
              "\n",
              "<style>\n",
              "  .colab-df-quickchart {\n",
              "      --bg-color: #E8F0FE;\n",
              "      --fill-color: #1967D2;\n",
              "      --hover-bg-color: #E2EBFA;\n",
              "      --hover-fill-color: #174EA6;\n",
              "      --disabled-fill-color: #AAA;\n",
              "      --disabled-bg-color: #DDD;\n",
              "  }\n",
              "\n",
              "  [theme=dark] .colab-df-quickchart {\n",
              "      --bg-color: #3B4455;\n",
              "      --fill-color: #D2E3FC;\n",
              "      --hover-bg-color: #434B5C;\n",
              "      --hover-fill-color: #FFFFFF;\n",
              "      --disabled-bg-color: #3B4455;\n",
              "      --disabled-fill-color: #666;\n",
              "  }\n",
              "\n",
              "  .colab-df-quickchart {\n",
              "    background-color: var(--bg-color);\n",
              "    border: none;\n",
              "    border-radius: 50%;\n",
              "    cursor: pointer;\n",
              "    display: none;\n",
              "    fill: var(--fill-color);\n",
              "    height: 32px;\n",
              "    padding: 0;\n",
              "    width: 32px;\n",
              "  }\n",
              "\n",
              "  .colab-df-quickchart:hover {\n",
              "    background-color: var(--hover-bg-color);\n",
              "    box-shadow: 0 1px 2px rgba(60, 64, 67, 0.3), 0 1px 3px 1px rgba(60, 64, 67, 0.15);\n",
              "    fill: var(--button-hover-fill-color);\n",
              "  }\n",
              "\n",
              "  .colab-df-quickchart-complete:disabled,\n",
              "  .colab-df-quickchart-complete:disabled:hover {\n",
              "    background-color: var(--disabled-bg-color);\n",
              "    fill: var(--disabled-fill-color);\n",
              "    box-shadow: none;\n",
              "  }\n",
              "\n",
              "  .colab-df-spinner {\n",
              "    border: 2px solid var(--fill-color);\n",
              "    border-color: transparent;\n",
              "    border-bottom-color: var(--fill-color);\n",
              "    animation:\n",
              "      spin 1s steps(1) infinite;\n",
              "  }\n",
              "\n",
              "  @keyframes spin {\n",
              "    0% {\n",
              "      border-color: transparent;\n",
              "      border-bottom-color: var(--fill-color);\n",
              "      border-left-color: var(--fill-color);\n",
              "    }\n",
              "    20% {\n",
              "      border-color: transparent;\n",
              "      border-left-color: var(--fill-color);\n",
              "      border-top-color: var(--fill-color);\n",
              "    }\n",
              "    30% {\n",
              "      border-color: transparent;\n",
              "      border-left-color: var(--fill-color);\n",
              "      border-top-color: var(--fill-color);\n",
              "      border-right-color: var(--fill-color);\n",
              "    }\n",
              "    40% {\n",
              "      border-color: transparent;\n",
              "      border-right-color: var(--fill-color);\n",
              "      border-top-color: var(--fill-color);\n",
              "    }\n",
              "    60% {\n",
              "      border-color: transparent;\n",
              "      border-right-color: var(--fill-color);\n",
              "    }\n",
              "    80% {\n",
              "      border-color: transparent;\n",
              "      border-right-color: var(--fill-color);\n",
              "      border-bottom-color: var(--fill-color);\n",
              "    }\n",
              "    90% {\n",
              "      border-color: transparent;\n",
              "      border-bottom-color: var(--fill-color);\n",
              "    }\n",
              "  }\n",
              "</style>\n",
              "\n",
              "  <script>\n",
              "    async function quickchart(key) {\n",
              "      const quickchartButtonEl =\n",
              "        document.querySelector('#' + key + ' button');\n",
              "      quickchartButtonEl.disabled = true;  // To prevent multiple clicks.\n",
              "      quickchartButtonEl.classList.add('colab-df-spinner');\n",
              "      try {\n",
              "        const charts = await google.colab.kernel.invokeFunction(\n",
              "            'suggestCharts', [key], {});\n",
              "      } catch (error) {\n",
              "        console.error('Error during call to suggestCharts:', error);\n",
              "      }\n",
              "      quickchartButtonEl.classList.remove('colab-df-spinner');\n",
              "      quickchartButtonEl.classList.add('colab-df-quickchart-complete');\n",
              "    }\n",
              "    (() => {\n",
              "      let quickchartButtonEl =\n",
              "        document.querySelector('#df-ba118d97-5a83-4e88-981d-3be5e4c8b222 button');\n",
              "      quickchartButtonEl.style.display =\n",
              "        google.colab.kernel.accessAllowed ? 'block' : 'none';\n",
              "    })();\n",
              "  </script>\n",
              "</div>\n",
              "\n",
              "  <div id=\"id_48b756e1-75e7-4c0f-9e30-99cc889ccb9a\">\n",
              "    <style>\n",
              "      .colab-df-generate {\n",
              "        background-color: #E8F0FE;\n",
              "        border: none;\n",
              "        border-radius: 50%;\n",
              "        cursor: pointer;\n",
              "        display: none;\n",
              "        fill: #1967D2;\n",
              "        height: 32px;\n",
              "        padding: 0 0 0 0;\n",
              "        width: 32px;\n",
              "      }\n",
              "\n",
              "      .colab-df-generate:hover {\n",
              "        background-color: #E2EBFA;\n",
              "        box-shadow: 0px 1px 2px rgba(60, 64, 67, 0.3), 0px 1px 3px 1px rgba(60, 64, 67, 0.15);\n",
              "        fill: #174EA6;\n",
              "      }\n",
              "\n",
              "      [theme=dark] .colab-df-generate {\n",
              "        background-color: #3B4455;\n",
              "        fill: #D2E3FC;\n",
              "      }\n",
              "\n",
              "      [theme=dark] .colab-df-generate:hover {\n",
              "        background-color: #434B5C;\n",
              "        box-shadow: 0px 1px 3px 1px rgba(0, 0, 0, 0.15);\n",
              "        filter: drop-shadow(0px 1px 2px rgba(0, 0, 0, 0.3));\n",
              "        fill: #FFFFFF;\n",
              "      }\n",
              "    </style>\n",
              "    <button class=\"colab-df-generate\" onclick=\"generateWithVariable('alunos')\"\n",
              "            title=\"Generate code using this dataframe.\"\n",
              "            style=\"display:none;\">\n",
              "\n",
              "  <svg xmlns=\"http://www.w3.org/2000/svg\" height=\"24px\"viewBox=\"0 0 24 24\"\n",
              "       width=\"24px\">\n",
              "    <path d=\"M7,19H8.4L18.45,9,17,7.55,7,17.6ZM5,21V16.75L18.45,3.32a2,2,0,0,1,2.83,0l1.4,1.43a1.91,1.91,0,0,1,.58,1.4,1.91,1.91,0,0,1-.58,1.4L9.25,21ZM18.45,9,17,7.55Zm-12,3A5.31,5.31,0,0,0,4.9,8.1,5.31,5.31,0,0,0,1,6.5,5.31,5.31,0,0,0,4.9,4.9,5.31,5.31,0,0,0,6.5,1,5.31,5.31,0,0,0,8.1,4.9,5.31,5.31,0,0,0,12,6.5,5.46,5.46,0,0,0,6.5,12Z\"/>\n",
              "  </svg>\n",
              "    </button>\n",
              "    <script>\n",
              "      (() => {\n",
              "      const buttonEl =\n",
              "        document.querySelector('#id_48b756e1-75e7-4c0f-9e30-99cc889ccb9a button.colab-df-generate');\n",
              "      buttonEl.style.display =\n",
              "        google.colab.kernel.accessAllowed ? 'block' : 'none';\n",
              "\n",
              "      buttonEl.onclick = () => {\n",
              "        google.colab.notebook.generateWithVariable('alunos');\n",
              "      }\n",
              "      })();\n",
              "    </script>\n",
              "  </div>\n",
              "\n",
              "    </div>\n",
              "  </div>\n"
            ],
            "application/vnd.google.colaboratory.intrinsic+json": {
              "type": "dataframe",
              "variable_name": "alunos",
              "summary": "{\n  \"name\": \"alunos\",\n  \"rows\": 5,\n  \"fields\": [\n    {\n      \"column\": \"nome\",\n      \"properties\": {\n        \"dtype\": \"string\",\n        \"num_unique_values\": 5,\n        \"samples\": [\n          \"Aluno 2\",\n          \"Aluno 5\",\n          \"Aluno 3\"\n        ],\n        \"semantic_type\": \"\",\n        \"description\": \"\"\n      }\n    },\n    {\n      \"column\": \"nota\",\n      \"properties\": {\n        \"dtype\": \"number\",\n        \"std\": 0.0,\n        \"min\": 10.0,\n        \"max\": 10.0,\n        \"num_unique_values\": 1,\n        \"samples\": [\n          10.0\n        ],\n        \"semantic_type\": \"\",\n        \"description\": \"\"\n      }\n    }\n  ]\n}"
            }
          },
          "metadata": {}
        }
      ]
    }
  ]
}